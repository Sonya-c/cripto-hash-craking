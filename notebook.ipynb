{
  "cells": [
    {
      "cell_type": "markdown",
      "metadata": {
        "id": "4HhZlMCA1Brc"
      },
      "source": [
        "# **${\\Large\\text{Criptografía 2024-10 - Proyecto 2}}$**\n",
        "\n",
        "![uninorte_logo.jpg](data:image/jpeg;base64,/9j/4AAQSkZJRgABAQEBLAEsAAD/2wBDAAEBAQEBAQEBAQEBAQEBAQEBAQEBAQEBAQEBAQECAQEBAQEBAgICAgICAgICAgICAgICAgICAgICAgICAgICAgL/2wBDAQEBAQEBAQICAgICAgICAgICAgICAgICAgICAgICAgICAgICAgICAgICAgICAgICAgICAgICAgICAgICAgICAgL/wAARCADIAV4DAREAAhEBAxEB/8QAHwABAAIBBQEBAQAAAAAAAAAAAAkKCAMFBgcLBAEC/8QAYRAAAAYCAQIEAQQGEBALCQAAAQIDBAUGAAcICREKEhMhFBUiMUEWMjlReLcXGBojMzQ3OFdYYXF2lbbWJCcoQkNEVnN3eYGWtLW41TZSU3J0dYSRssPTJjpUVWJjhpei/8QAHgEBAAICAgMBAAAAAAAAAAAAAAMEAQIFCAYHCQr/xABaEQABAwICBAcICQ8JCAMAAAAAAQIDBBEFEgYhMVEHEzNBYXGBCBQiMpGxwfAVNnJ0daGys7UjNDU3OEJDUmJzdoKS0dIJFxlTVIOTtMIWJFWVotPU8USE4f/aAAwDAQACEQMRAD8Av8YAwBgDAGAMAYAwBgDAGAMAYAwBgDAGAMAYAwBgDAGAMAYAwBgDAGAMAYAwBgDAGAMAYAwBgDAGAMAYAwBgDAGAMAYAwBgDAGAMAYAwBgDAGAMAYAwBgDAGAMAYAwBgDAGAMAYAwBgDAGAMAYAwBgDAGAMAYAwBgDAGAMAYAwBgDAGAMAYAwBgDAGAMAYAwBgDAGAMAYAwBgDAGAMAYAwBgDAGAMAYAwBgDAGAMAYAwBgDAGAMAYAwBgDAGAMAYAwBgDAGAMAYAwBgDAGAMAYAwBgDAGAMAYAwBgDAGAMAYAwBgDAGAMAYAwBgDAGAMAYAwBgDAGAMAYAwBgDAGAMAYAwBgDAGAMAYAwBgDAGAMAYAwBgDAGAMAYAwBgDAGAMAYAwBgDAGAMAYAwBgDAGAMAYAwBgDAGAMAYAwBgDAGAMAYAwBgDAGAMAYAwBgDAGAMAYAwBgDAGAMAYAwBgDAGAMAYAwBgDAGAMAYAwBgDAGAMAYAwBgDAGAMAYAwBgDAGAMAYAwBgDAGAMAYAwBgDAGAMAYAwBgDAGAMAYAwBgDAGAMAYAwBgDAGAMAYBpqqpoJqLLKERRRIdVVVU5U00k0y+Y6ihzewFAPcRH2APccAo1676xE6vyg0nzFldiWL8rrt/rZcrOMisc/sEonUmnG6V4r601Jq+XcQ4LC1Tax79GNuI+VISpOHEk4D88eOTqVkk13/KX0f+y2sWq35KL23X/wBF5jLJUGAMAYAwBgDAGAMAYAwBgDAGAMAYAwBgDAGAMAYAwBgDAGAMAYAwBgDAGAMAYAwBgDAGAMAYAwBgEIPiEObocJ+mpuB7XZkIvbnINI3HPUYIqphItpfYsa4QudpZpiYDl+Ra2lLP01yAPpPiMCCJTLE7xSuys6SaBmeTq1nnZW5skHRw0EzS8yKJepxybbJ+iYyZ0Uy8StbJk9FQvuUSh9qIe4CACGVLeAnunF38N+qnnU9Kjok82fy+fTj0Ft6akyyO0KlCjpfd3c5zug2rq5BGCmJZ76giPnm2XyfYS/V6cuQA+jtl2N2ZpQlZkfYljzcjGAMAYAwBgDAGAMAYAwBgDAGAMAYAwBgDAGAMAYAwBgDAGAMAYAwBgDAGAMAYAwBgDAGAMAYAwDzKvFCc5S8peoKpoeoTYSOpuFsM81s3K0citGSm67T8PMbgmSFD5oqR4IxdcEfcUnMTIlKPZY3enK7M/qOQp2ZWX3kadu+476C/xoPJ3/ZP1vmlvBTrX0En4Vfcp51JnvCac3CaU5ibC4c3CYTZ0TlpXAsFFI9cJIs2W99XRqrxBm3O4OUpFJ+t/HICBfnuXUJFtyAZQ5AyWF1nW3+chqWXbfd5j0Y8tFEYAwBgGwObVV2S6zV5ZIBo5bm8i7dzMR6C6BwDzCVZJVQDFHt79hAMxdAb6Q5FCFUTMU6ZylOQ5DAYhyGDzFMUxfYQEPoHMg2BO21RVYjdKzV5VwqqVBNBOajTrKLnP6ZESJlU7iYTewFAO4j7fTi4PtkJuFiBSLLS8XGGXA4oFkH7VkKwJ9vUFIHJy+by9w79u/buHf6cA+lk/YyTcruOeNH7Q4nKR0ycIum5zJnFNQpVkBMURKYBAff2EBAffAPif2GAi1wbSc5DxzkUyqg3fybJouKRhEpVQScHKbyiICAD27dwH72LoD6TSsYWP+VjSLAsX6RV/lIzxuEf6Jx7EW+ME3p+UREOxvN2HAPlY2Kvya/w0bOw0g58hlfh2Mmydr+kQQA6npIHMbyh3DuPbsHcMXQHzJ2+prKJoo2iuqqqqESSSTm406iqqhvImmmQqncTGEQAAD3EfYMxdAcizIOPubXVmSyzZ5ZYBo5bGEjhu5mI5BZA4B5hIskqoBij29+wgGLg1XdlrjA5En1ghGSiqKblJN3KsW51G636EuQiygCJDdh8pg+aPb2HFwfL9mdP/urrX8exf/q5i6A+tjY69JuAaxs9DSDoSGUBsxlGLtwKZPtzgigcxuwd/ce3YMzdAabm01hk4VaPLHAtHSBvIu2cy8eg4RP5fN5VUVVAMUewgPYQ+gcxdAaRLhUlDFInaa4c5h7FISbjDGMI+wAUoK++LoDkQCBgAxRASiACAgPcBAfcBAQzINFy5bs267t44RatWyR13LlyqRBu3QSL51Fl1lRApSlD3MYwgAB7jgHV8XvnRs5MEr0JubVExPqK+gnBxexKhITB1xHygiSMaPDrCbv7eUCd+/1Zi6GbKdr5kwcfWttVbLKtnFmr7dwgoZFdBaZjklkViG8p0lUjqAYpgH2EogAgOLg3J9JxsWgV1JyDGObGOVIrh87QaIGVOAmImVZwYpRMIAIgHfuIAP3sA2j7M6f/AHV1r+PYv/1cxdAb82ctniJHLRwg6bqh3SXbKproqB37dyKpCJR/yDmQa+AbK9sldjXAtJGehY90UhFDNnsoxauCkU+0OKK5ym7D9Q9uw/Vi4NxZvGcg3TeMHbZ80W83ouma6Tlur5Dimf010REpuxgEo9h9hAQ+kMA0ZCVjIlIi8rIsIxFRT0k1pB43ZpKKiUTgkRRwYoCbsAj2D37AI/VgG0/ZnT/7q61/HsX/AOrmLoDf0HCDpFNw2WSct1S+ZJdBQiyKhf8AjJqJiICH7oDmQa2AMAYBUS8W5Z9oE0zwW1dr3Y1poUdtPkNdmtkQr1ln60xnV67rkzqvBYj11VJZy3aKuFlk0DCdMFhIt6YqJJmJw2PYlHg+FzVT2ucyCNZHtZbM5EtqbdUS+vnU834OdDq3hC02w3A6aWGCoxSqjo4ZqjPxET5EcqPl4trn5Ey68rVXoKXX5AHIbv3/ACfp7v8Af/JE2h3/AO/1s9VfzyYD/ZKz9qH+M7s/0efCd/x7R79jEv8AxTGSzXDbdSsc5WXO3dmru4CUdxTlwz2XfiNllmanpnVb+o+KfyD9XmAB++Gez8Mro8Vw2CpYjmsnibK1rvGa16XRHWVUvvstjpZpporV6EaX4ng1RJFNPhdbPQzTQZuJkkp35HPi4xGvyOXW3M1Hb0N61/L7l2VaWdRjty7JZu37WQcEcSuzdhKMypsGpnSpFCoPTm+cUvYPm9u/0+2UtIccp9G8LfVysfIxjo2K2O2dVkdlS2ZUbqXaeQcE/BlivC9pxT4DQ1FLSVNTDVTNnq0l4hraSF070dxLHyXc1tm2ba+3Udohw3viqnzrjUDKLKCY6iny6odRVY/mUVVOZATGMYwiYxh7mMYRERERz14vDLgKJ9Z1nlg/jO2zP5PLhQe9E9n9Htaoni4nz/8A1TIeRrDqf6UnHCntnLZB/J9WHk3XkXa/q/BpuTcWdctPXVBMBP6fmDv7FE3b6u+ezq/FIqDBX1jmudHHCtQrG2zq3I1+VLrbNZd9rnTDRjQuv0p4Q6TR6GaGOqrMSTCY6iXP3uyZah9Pxr8rVk4rM3Nqar8vNcx6R4fbAbLIuW11qzR02VTcNnTVWwNXbVwif1EXDVygiVRNQhgAxDkMU5TB3KIDnrL+eTAv7JWeWD+M7m/0enCf/wAe0f8A2cS/8U/Nga/5C66qr22Pd53iVYRyzJJ42idm7OK6SReuAaldiDl0QnpkOYgH+d3ADdw+gc5nR/hJwfSHFGUkcNRC+RHqx0qx5FVjc2TwHKuZURcurmseuOFbuOuEDgl0IqceqsQwqvpaSSnZUQ0LaxJ2R1MqQJP9XgjZxUcj40k8LMiPRURURTHxDY+1Hjls1Da+0vO7ct2pDKbLvRilO5WKgQx/6P79gE3v9fbPYMr0ihc7mY1zv2UVy9uo6qUlKtZWQwtsjp5oYGquxHTSNiaq212RXIq2122GWn5X3kOCnk/J/nQN5/IJg2JtEPfv5e/st3z1H/PLgOW/edZsv40P8Z31/o7+E/jcvs9o942XxMS32/spe18KDc9h2Xp67grmwbzZr0bWvMHaFIrTqzz8xY1oaDb0iry7iGiH06qs4TY/KDt67Rb+YCJKO1hIQnnEM9xYbUtraKKZEVEljZI1FtdEexr0Rbaroi67c50I0mwebR7SGtoJHMfJQ1dTRyPjzZHyUs8kD3szIjsjnRqrcyIuW10QpG9dZMg9V3qOCIe/5Nkt9Y/sdw+JfGcVYeSQ9X7jL+tu4+f4ENUfyDYZdTYcc/xl61PIm4ZpkDqXcWh7fRz9099Y/tkWOUU2nJP5Jfcr5iz94zIpTbI6ffcO/al8kfv/APzql/eyafahBS7F7DCLw0/Vk/KXcgi8Qt3Wb4Pi9ybtTBvWZaZfilD6Y39K+lDwc8KzkfTaw1q8reIlxHyItpMkRJHOij8qKqaxPyr0L5zaojzNvzp5jS8WwQpuqdUxEO/9SDqT6x/ZEumYm5TsT0mabk+0nJ2iUPzHzEl7e35RDTft/wDn0Hkq8h5POQJ9c9qkD3hOCFL1XnggHv8AlTt1/WP919QzSHxuwnqeT7TAzrYcR5PgJ1P9+UyjNlatWLBcI7k3x/kGSS7NrE1/YsspcY1CFP39i1+zt5WLR8g/nZI1D74ZHI3K9fKnr1m8Ts8fxKemtxt5qUPcfT21jzxmn6DGlTfGptvW+rogUiUCtW6YpN7NjfKI9gNGPmUk0MX27HbCHtlxHIrL9Bx7m2fbpseXlw11HburV1WKDAXZB5Ir8peSNo3bu9QDD6kZrEJ91tfZ7VRQ3sQhYhI0G179igs4Zol+kpcpt8N3XtOQevFxdSWJL/FisGTHqlVhiyaoM2TLh9pZmzaNUyt2zRo2u1wRbtmyCXYpEyEACkIUAKUoAAB2ySbxuwjpeTXr/cce4SeGW5Rc6OLGneWNA5IaApFP3PAyU/CVW4QGx3lkhm8ZZXtYVbyrmGRM1OcyrFRQooiJfTOQPpAc1bE96XSxl9Q1jrWXUT69G7w7PJDpsc3oTlLs7kBo/YtWi9WbIoKlaoULfmFgUf3YrAGb4i1iRK29FH4M3qgJwP8AODygPv2ljic111sQSzpI2xUi68h023V46grs5BODfbsY4MUDeUTgjqSuqCUBH7/bIH8o7r9CFqHkkM/9weGS5Eaq4PTfOOK5QaYtcBWdANeRsrrt1UrXSJv7DwpKd+loiNtr2QdszyTdkY5W5Fm7dJ85TKiVRAyxO2yxOy31bLkaVCK+1uexzrwtvOPkTS+oHS+IS+wrlcePu/Kbswz7XdnnZixwtFuFDpDq/wAJeaU2lVlfklRRONXi5JFr6TR6i8RVconcM2qhMwuVHW5lFSxuS/OcE8Thz25D7h5+bi4lr3C2VjjtxuLTa3BaliJSRha/erZM0KOvM5sO8sGJyhLrKnlisoojsq7VixalUaIEcvHaq2JXKr16BTsajL86nFtieH2oVq4sVHfvTa5p6u6hm4SoU5/eOP2rIugV+8t2thOi1mpSjMzT4yrdSDcrAq8jp9kxffJyTl2Y7Zw3Fmo4q6XRb+vrtMpMqO1tt0lpjw5Nc6qem9XbY48dRDVO1q9rullqc/xrvG2rjUrdZWEdIfFRty1So+jJmUlFGLAUWD+IB/2KzTdPWSK3wybRu3mhzomsrTrGq3TtKF3VQTIPU/6gY9vp5q78+sf2UXmVneO7rLsXJp1F4LxYZQN0ldUAP0flqtC/i6tf3ssz+L2lOm5TsKZfTQ6R/Ifqpu91x/Hq56eqL7RcdSJGyI7ambhDJzQX9WVRhW8AvVYiX+cQ0O4+IM5KgUnqI+QVO5/JA1iv2FuSVse3nPogdo9R3oZcy5ijNLfZdW7b1XJwL656q+zN/atGbhpsq3JMxqMtCpq/J0pCzTMwlbySTdtLRq3qCipHSjJVNLHhMd0izJmetz1ROM/J/XvJnirqDlrXXSUFrza2ooDbRhlXaQFqkfIQIS9gjJl8IEJ54hUrlq8V7FICjVUwdi5dRbpc45zVa6x5MvNveGw+pNzg5b8nazCTtraWF7sba0SwbgLpxT+NGmYkkXXpR0QO3ptYusMmLp75Q/TCy5wKJ1B70lXMqqckxEjYiety3T4P3mH9kmpOQ/BWzSnqSmpbCjvnU7RdRRRU2vNjuixGwoll6giAIxljSQfGKUPZSzZNA7anaVqputF7DubxhpQNwM41APv/AFX8J+Jm4ZmfYhil8ZeoqL9NPo5cluqjX93z/Ha56Xq46IkabFWGN2zO3KDczz68R0hJw5K+4q8NLpAUpY1Yq53QoeU50vIBy+cSwtYryzJK2O1zS1VyQ6iXQ25lz1KCft1Gv2nbTFNdvce5i3P7FprbNWdM0ZtJg5iPWUjnDOainJHELYmCLeSZC4RdIKorJLtcwiujcFayZvpPVw0JuWo8itIai33QVlFqVuXW9M2bVxXFMXSULda+hYGLV76QiUF0SLgiuUB+YsQ5fqy6i3Q41yZVsdtZkwMAqG+K/wD0h0xvwmNm/ixJnhvCB7T8Q96yedh757mD7oLRH4ap/kTFZoPpD98M6cn6ByH3cP6q+x/4Yzf+lDncXQ/2p4b7zh+Sfn04f/t56X/pBiXz6nPOLn6s9f8A+qrL/qdTOA4UvaXP+epvnUPaPcTfdFYV7wxn6PkJSkP0ZH++p/8AjDOq7/FXqU+38HLM903zodWQ33Obit/jjuTP+zTrvO32kftCqfg1f8u0+AfBD907gn6YN+k5js8fpH9/OoZ99zYrRX29rrc/WHYB6E/EPoowm+hNR0gJG63v/wAmr5Dh+6XL+F4hJhOJQVLfGgmZL1o1yK5P1m3b2ni+m+ilJp3obiuCzonFYpQVNEt/vXTxubFJ1xTcXKnSwhqZNXLGwsGLwgpPGNhZMnaQh2FN00liN3BBAfvHKIZ3Omljnw58jFux9O97V3tfErmr5FQ/O3h1DV4XpXTUtQ1WVFLi1NTTsXUrZoK+OKVvZIxyE3P9tf8AaP8AzM6Pfgv1fQfpVX68/vP9Ra68Jt+sf5Tfh7bf/F9Uc7xaOfYKj960/wAxGfmz4U/tmaQ/DmL/AEjUlLfrvx75j1Yuos3dtVm67jcTh6gkomYDqtJPWEI9j10y/WVVJQhyCH2wGDtlyXxlPFYeSQ9Vzi5MxDzitx1sLWTYrwLrj9qOZbTKbpEYxaIX1zHvkZMj3v6foGREFQV83k9P53ft75dTYcc7xl6zyPuDpTT3Ut4kfIofKYTHPXS7uLFn+fg/auuQzB83cNhJ9sQ6P56UQ9hJ876Mot2ock/kl9yvmLPfjMP1SOn3/Avkj/rql5NPtQgpdi9hX3uvTWsr3pMaL6mmtWkxYK2fY+4NT8pIP57xKmIxG0HNX1XtKLKkHmQiliClBTgGHytX54p+QQSdvTIRZbMv5SZJPqqt8hi5yy5hbX5my2kbbut0Sb2Bpvj1SeOzu7qLrLzGw4PXdimpOsW61mW+2mBYyqTGRcAJvj1WPygp2cO1wzCrdTZrEZ5bl5LaP/ufcT+Ahpv+XsHlheQ8nnKafXPapA/4Tn7q68/BO3X/ACvqGaQeN2E9TyfaTdeLw4cfkgcaNKc2avE+tY+OdxHWuynbVsdRyrqHb75FnESD9Uv9hibQjHJpd/ZMs88P37CObzpquQ0zrOtvICtIdT1Wh+Hd5TcHlZ/ybLkeRlf09r5meS9OUJoTfxl9q7FWjWgD5xaNlYS1xjk4d0khsDFM3YVieaLP9Tt62Jlj+rovR8ZLP4Pbh73/ACzPPKzRf6Mo04zafduEkjB8OyM1vO45hiY4eYPUcDXo0qpO3zmUih3+3Lm8Ddar2EVU7YnaRweLP+6qQP4I+nf5dXLMT+N2ElLya9foQ2Pg/wCHP5281eKmnOUWpeWGn9e6629Ayc5V6ZZLVvGPnIJnG2Z9W3DaQZ1VirHkMdwyWVAGyhieRQoiPnE2aNie9LpbWHzsa61izJ0M+ixyz6Yu9d47Q5C8hNbbjruzdSwVCr8PSbBtSXfQ81F3ALC4knqN/aN0CJHQD0gMgcywn9hKBO4jPHG5m0ryytfsQpTdeNRJHq7dQVVcnqIJbdjFFieUD+dImpK6ZQnkN7D3Dv7D9OV38o7r9CFyHkkNXn9pvqjcW9Xce6vy63puG78fOQWsa9c9Js0OQOydgaZlIBlAx0w2pD6tTSzdqykodm7jjjFOGBkE0RTWjlXKTdQ6JyOREuvVrMM4pyrZNaFmTwmvGjgdIxWyeUVH2LbNj81KjEpa7vlGv1ch6kloSqXDyvRf62iY15IfK7GxmZHQG0quiODEYuIn5MhzfGJPpoEb2kFS5+zmOdda3jP0VefG6XVlddSLRHGDnRXn7bTFmcNLJA3qKuk7WpQ9XhqRuHXLByg7SlYt4PyYnJtnrJ8yQL8G/SfN2rVFqekbl22U1idLGmzUVyec/h9Ooj07KXYeRVgaa72XqbXPwklYNy6Fuss2sVFj1XpGjaxzNan2sTOMm6Sp0/iHUaeRTZeb1l1k25DrlidG5pZZOx62J3vC39V3k1u/cN64Ickti2fdUDG6kktqaUvt7kHNi2BUy0udjYCy0Cbtz4TPJSMWbSjZ1GqyKrh5HqM3DUHCjVw3SaywvdexDURtRLoVUOqf90+6gX4au+/xovMgd47ussRcmnUXgfFhfcldUfhVaF/F1a8sz+L2lOm5TsI7vBmf8M+oV/BzjP8A6wu+awc/Z6SSr+97fQR8eLEsdXmuqyzi4FwzcTNQ4sadgbuVqYh1mU+9s1ntMawkfJ9quETIR7gCH+cDZ03P28ihRHSblOwkpr8X2klV05cS3DnwlvGSqtJVxEbV5Y0q06D16Urj4WVb0zZ+z7TZbrPtCD8/0EaQV2kiqXsCa0jH9jfPJ32vlgTp1evYRI3NUr0ayGDoQ8k+nZxUtHMC2c87tP11LcHHt3xjoNer+rrrsD42ibU+JHdMks8qTF4RiYzdnDMECLAU6yarvy/nZTAbSNWpe+6xNM17rW6zE3pHctGHATqWce9xo2c7vVDTYz7S+xrEqg8YoT2jtlyP2DvbZIxrn01UitfNF2gUFylUQVjSkUKU5DBmrXZXp67TaVueNS4X4woQNwL40mKICUeX0IICA9wEB0zbxAQEMnn2IVqXxl6jG/wZP/AfqG/w845fyVtWYg5+z0maranaQueKIsNZnusHthGvO2LtzWNLaGrFuUZKpKg3tbeuu5xVi9OkI9nCUc/jfUIb55CmTKYA7ds0ltnJqfki9l0MYmahOkP0/GM+k5QkDcc6hIkSdAYqxYqZUXmID2P7+UWC7YU//tiXt7ZYj8RClNyq9ZK7m5GMAqG+K/8A0h0xvwmNm/ixJnhvCB7T8Q96yedh757mD7oLRH4ap/kTFZoPpD98M6cn6ByH3cP6q+x/4Yzf+lDncXQ/2p4b7zh+Sfn04f8A7eel/wCkGJfPqc84ufqz1/8A6qsv+p1M4DhS9pc/56m+dQ9o9xN90VhXvDGfo+QlKQ/Rkf76n/4wzqu/xV6lPt/ByzPdN86HV8N9zj4q/wCOP5M/7NOu87faR+0Kp+DXf5dh8BOCD7p3BP0wb9JzHYrzv8K+8phKb4N4JTB9JTA3N5TAP3w+nOo0XKs92z5SH3qxHN7HVNlVq97z2VNqLxT7KnSi60OEautQXXXtSsonA7l/EIJSPYfcktH94+TKb90VkjG/eMGc5pThXsJpDV033rJXLH+ak+qR/wDQ5E7D1xwI6cpwkcE2A4zmRZqqgjZV2+9rqVVpaxF6VqIXv6noYBcgKr9jO8PiUU/TY2uQgbO07F8pPXePyN5ZMn7zpJQ4/wB8D7+dgeD7FfZPQfKq3fSxz0zt+VkauiVf7tzU/VU+U3dW6Df7F90rxsbMtLjlXheNQWSzeMnq44q5qdVZDK9fzqbyUL+2v+0f+ZnVv8F+r6D7ar9ef3n+otdeE2/WP8pvw9tv/i+qOd4tHPsFR+9af5iM/Nnwp/bM0h+HMX+kak6P8QZ0B9xczttl5s8K0IKybilqxBVbdelJ6ejqqvsFOoMvkuq3yhWScOlHEl0I8qUZIR0i4Zt3zRmwWbO03aCqL3k5Y1VboeGQTIxLKVzo/iV4kWjafccTYHVPUMhdCuY5/WVNR12zIr66LX5Q5/lKtspSJllUm0Q49RQFo9vIoxiiaihDICkocDQ2ltbwifNTqt9RNn0FvDub80hyGpPNfnhXIfW7nUJ3M1ozQCM5CWi0q3x5FqRjDYex31ZWdRrBCIQcLKRMS2eOnakmKT18LIsek2eSRxLe682xCGadFbZO1TITxQ/T35o837zwxlOJ/H+07sYa4q282N4c12bo8QSuu7RK1ZeAQdFt8rHGUFyRi7MT0AVAvoG9QSCJPNtK1zlMU72MRbqSL9C3hRsTT3SUjeJPNfSJqzKWm1chorYuobwvXp5CXoeyLpIHIzlTVp49aHQkI5z37Ec+oQp/f01A9t422ZZSOV95Lp62KcPMzw3HUU0xyU2hROMHHu58huPLaZGX09s6Jtutmrt1SJvu9iqxa21omY52EzC9zRj9b4UEXwt05JA3keemlXWJyKWmTsVutbKWv9gcNeT8t4ZyO4WR2n553ymR4haw16ppokpVSz5bnCXGJkJWBGVVflifURRQWUMf5Q9EQIIEUMbsAzq1eKt67Sqj046/NciB8OZ0s+oPw+6irnb/ACZ4vXPUOtD8c9q08tunrFriUYDZp2y1p7ERHwtWmn7rzrpMnRym9D0gBE3nOURKBtImua4mnkY5mpecujcrOPVQ5Zca95ca74kmerbs1lbdeyC6iXrGilrBEqNYqwNSe39ERrz4eQbD/WuGyRg+jJ3JmSxVa7K5FPLbf9ALrHxbiQYhwYv824inD+PJJxt10yWOmTMFzNgkI1RxZSHBs7FMFkBUIQ3pHIJyFN3KFPi37jkOPittPS26ZfERlwV4J8bOMREWxbBr3XUatsR22BuIS21rWoe3bPlBcN/ZUqk4+fAgp3N/QpECAPlIXtbY3K0oSOzvVSpl4jrpb9QTmJ1DofbvGTi/c9v62b8bdY01a2wNi1zFsU7RCW6zyErDi1tU0wdeoii9aKGMCHpCCxQIoYQOBYZWuV3YWaeRjGa15/3EcOsuFHii9KUSu6u09X+cOsNa09qsxqlDo/IfW8BVa4ycvVZJw0hodlawSQTO4XWWMUgdhUVOb6TZpllTeSK6nVeYl76NunvEI1LqE6hnue8rzDdcXGtX2ynekdt70qV2oZph1rx6hSRla3FWB+usoEoLcWpitTgiv5FDCQC+YN2JLm13sRSrBk1WuRh9Yno09UHkP1IOa249KcO79sHWGy9hNZei3CLtWqmLCxRpNaQ0Id21azk+1dplB02XS7Lt0jd0xHy+UQEdXxuzr0m8UzGx9Rbl5y9NJxzu6QtJ4p2OFa17kBrjRGo7HqNzLqM/WpXIPWOtmzBpCPpFuqZEjWSMD6tyqhFlEQYyLhwQVDIomCVWZo0TnsV2yZJb81/iKofR94D9Z/pzc7NRb+d8FtuJatnVPyLOQsG0uenHQyenLq8QJNyIMmlo7uXVeepMrAyIXuZVWNUaE+a8U80TGvY/YWJXxPZt1mVvXS8Opye2Tyh2XzE4J1CM29V95ySt52xpdvZYOq7BqGznKBEbTZaX9lLlkxlY6cUIEks3I/Qk2Uqs9FFu5bLpC2zJE6905zWGdqNsphFsuI8U5yY0AThNtLTHKO1aek2EPV55vYtfaeq03b4GGcJqMIa/brcqs3Uiy8ySQuzuZT1JAqYfKS7wgqAfT6sqWsvr0m6d7tW+osR+Hs6HmwOm+OwOSnKSQra3JradTQ19B0GoyaNjgtOa2GVQn5uPkLSiUG8jOzD5oxM+UYeePYtY9u2aO3ouHS2TRR5dfOQTzJJqTYVmuoV0Ueqrtvn5zN2trfhdsK2a62Nyp3FeqPamNt1G2ZWKo2LYDqWhJxo2k7Eg5TTcNjlVKRdBJYoD2OmQ3cuQujfmXVzliOWNGJr5i2P4jDiNyT5gdODXWnOM2pZzb2zofkPp63SdPgZOsRb9pWq9SLFGzUso6tL5g1Ejdd42TMUrgyoisUSEMUDCWeVFc3tKsDmtfr3FPDRvS48RNxiPaVON2j+VehlbyjFNrmrqbdusKQtaUIIXAwiU2vC2xM6wNBeOxb9zd0hcrCQQ845AjJE3lt0kDttlMleKvhiepZym3Q2uXOddXQmuLFPBZtuXy7bTgtrchb8ks5KaYYwDavPpoCyz4gej8rz8kmVgn/RBGsgdFJmplsLnbdRq6ojamrX5jOTxAfTu6hvKDevHrQ3DPhfe53hhwy0LXdc6hWrln1nGVh9ZZ9k1+yZzER1mnmb7yRsVGwEIRVygCh12cgcp1CLeofaVrlXUmpDSB7GoqqutTKfg74VTh/ZOJ+kbJzare9oLlNYqgE9uGt1fc/yHCVWfl5Nw/Y1RvHV5J2zKrGR52bJ2og6cprvEHC5VjFUDts2FLa/X4jV9S7Nq2EOnVK8Nfyc1RyZUrvTr467S3fxhsOtKvMM5V/sKiyU9Vruq4fQ9zqkxKXSUiXa/mBu1kWxyNzpERf8AoFWEyIlLG+Jb6k1Esc7Vb4S6yVnqU8TOplzj6JvT41TLcV9gy3MLT+163F7v18vYdbJzoRWtdZ2nWrLZq8w5nvk5wlNpGiX5/RfKOSuZFQh0C+koJd3I5zE1Ecbo2Su16iBnR/TD8RjxlY2uM446Z5Z6Hj72tGr3Vrqbees6MnanEOgs1iF5s0HbUjLHapuHBEDiYDJFWUAoh5hyPJIm8mc+B22xlTww8Lrz+5Gbpjbnz+8mi9Pydh+y3bD6b2dB7O5B7VBy+F7NwcerWXsuiyeyxvMk9nZmUM6ZpqncoMXrgEyhlsLl26jV9QxE1f8A4ei3VKtXaNVq1SahDsq9U6dAQ9Wq8BGJehHQddr8cnEwkPHoB9og2bIpopF/rSEKH1Zb2FDab/gDAKhviv8A9IdMb8JjZv4sSZ4bwge0/EPesnnYe+e5g+6C0R+Gqf5ExWaD6Q/fDOnJ+gch93D+qvsf+GM3/pQ53F0P9qeG+84fkn59OH/7eel/6QYl8+pzzi5+rPX/APqqy/6nUzgOFL2lz/nqb51D2j3E33RWFe8MZ+j5CUpD9GR/vqf/AIwzqu/xV6lPt/ByzPdN86HWMP8Ac4eKn+OQ5Nf7NOu87faR+0Kp+DV/y7T4B8EP3TuCfpg36TmOw3n6Vff9De/6MfOo0fKs92z5SH3sxD7HVHvef5l5hrw6tPxEPbKSup3Ui3iFkjSCP9pyYAykyE/5qyaRx/v2e5+GTCuLrKStamqVjqaRfy4vDjXtY5yfqHzu/k9NOe+tH8d0blf4VFUR4xRtVf8A49Z/u9Y1vQypigkW2xahV5zlXKaq/KUHSragn3cVe3RTF4codzfJM9IJJAJv/pTdJo/veqOcVwV4r3tXVtI5fBqqSV7PzsEb18ronP8A2UPOO7i0G9mNGtHMfjZeXBcfoaaocia+8MUqoGa/yYq2Kn6E45xld/bX/aP/ADM9Tfgv1fQd7V+vP7z/AFFrrwm36x/lN+Htt/8AF9Uc7xaOfYKj960/zEZ+bPhT+2ZpD8OYv9I1J3Byy8TZwf4ecktw8X9jah5Rz160paUalZ5imVDWb6qyEgvAs7CVaDeTFsYulEfRfJFEyzRA3qFOHk8oAY3KrM1FVNeo8JbTve2+o6Ji/F79Nl09RQlNQ8x4VmoYCqySmt9YSSTYB/sirSLuaq5ih9fpJqH7fakMPtmOPZ0me9ZOj17Cfnhxzj4vc+dVE3HxX2pD7LqSD0sRYWqTd/C2yk2EWxXZ63eafNpoSMW9AhgOVN0gQjhLsu0UcNjEWNI1zXJqIXMcxdZ2JyW3zU+LfH3cvI69xtgmaZpDXFs2daIqqNmDyyyMHT4hSZkWcE1lHDRso6OmkYqJF3TdIxxADqkD5wZVcqX3GGtVzrbytj+a/wDp1fsF8yv8xtQfz2yLj29JY71k3p8f7j9/Nf8A06v2C+ZX+Y2oP57Y49vSO9ZN6fH+4sa8TeSlJ5icbtN8n9cRNngqLu6kxt7q8PdGkawtUfFSgnBBtOs4d0+apuA8g+YqDtwT6Oyg5K1cyXK7kyusRHc9PEUcN+nnyat3FbcOrOSNovtNr1MsklM65quu5SprsrxBln4tJk9sNnjHRlU0jAVcDsyFKp7EMoX52RrK1rrErIHvbfUTBcYuQFR5W8edM8k6DGWKFpW8NeVnZVXiba1j2VnjoS1RxJNg0nWkU5eNk3RCHAFSIOnCYG7gVU4e+SNVHJcicmV1jvbMmBgDAI2Opj1Q9FdLHWWuNqb5p21blA7O2GfW0Gy1PD1eZlmk0nWH1rF3KI2mXh0iNvh2CpPOmsqp6xky+l5RMcuj3ow3jjdIuo6t6Z3Wq4g9U2f2bStFtNlUTYWro2JscnQtww1YgLHYKdKr/J5rhU06xLy6LxkzeiRlId1UlmS7ll6qIJvWyh8Mka9TaSJ0e00upv1ouNHSqtOoKlvugbuukhuiBuVhrK2pYCmTLOPZ0mQjo2USmz2qdhzJqKHkkRQBEi5TFIr5zJiBQMfIjBHE6TZYyx4C84dXdRLjRVOU2nK7e6tQ7fO3Svx0NsiOhIq2IPKNaXNSlVXjOuyEm1Kmo4aqHQEjw5jIiQxypmESBs1yPS5o9isdZTI/aW09caR15b9s7du1b1zrSgwrqxXK726Vawtdr0MzAPWeSMg7MUhe5hKmkQO6i6x00ESKLKEIbKqiIYRFVSsDuHxefT8pNkeQeptOcl97RTF0s1G6RVdp2u6xKFRVEgPYFvsCWaS6qBwDzJmdxTExgH7Tt2EYVnbzIqlhKV67kMp+FPiX+nDzEv8AXdRyklsTjPs63PmsPU4nfkLBRNRtM+/cFbR9ehdkVSRlIhN64OYCNkJVaLM6VErdr67hRNI2zZmqu40fBI1N/UWFclISGjqY9b3i90sdlax1dvnXm9blO7Vo8xfoB5qevUiZimUTCTxa86bSy1psEOqRwZYwGIVJFZMU/cVCm+bkbpEYpLHE6TZYja/Nf/Tp/YL5lf5i6g/ntmvHt6STvWTenx/uM5+EXiJunDzo27XNC0mybN1Ltu6qixotW3rSWVQa3mbBIy4Vqr2uvyMvEKSShCHFsxcvWrp6JRSZJOF+yQ7Nla5TR8EjEuTD7s2rAaJ03tnd1rZS0lV9O60vW0rHHwCLVzOv4GgVh1a5dnCt3yzdBR2q3aKEbkWcIJGVEgKLJlEThuq2QiRLrYrGp+MC6dCqaapdF8y/KoQqgd6LqDv2OXzB3/8AbfIuPZ0ljvWTenx/uNT81/8ATq/YL5lf5jag/ntjj29I71k3p8f7iUDpj9aDjR1VrPuCqaEoG7qXIaWgqZYLMttqApkM0kGd4kJGOi0oM9VnZgyiiZ4xcVwWIgUpTpeQygiYC7tkR5HJE6PbY7D6m3VX0H0q6Tqm977pe2rnFbfucxR6621LC1WZfsZSErx7I6cTKdqmIchEDIkEpDIqLnFXsBkyl+dh70YYjjWRdRD5+a/+nV+wXzK/zG1B/PbNOPb0kvesm9Pj/cdh6i8VtwE3NtrVenK1pbluwsm3Nk0XV9efzdL1ShCsZ2/2hrVIh5MLs7iusRqk4dpncHRQWVKiBxTRUOAEFx7ekwtM9E5vXsLPOTFcYAwCnv4tuVQg6300JZycqbZnya2CZwob7VNFfX7dooob9woKdx/cDPGNMqV9dozXRN1ufSz5U3q1udE7ctj25wC45TaNcM2jFdM5Gw0+OYcsrl2NjlmSBzl6GpLmVdyFbEwCQwl+sphD/KA9s6Wot0P0TOarHKm5VTyETnISvva/t23/ABSJ0287IDYopYxRBN2xkyFUOdE/0G9Nb1ElAD3IYvYe3cM7a8HuIwYhojR5VRXQR97ypztfGqpZU5szcrk3ournPg/3WOimIaJcPukHHxuZFilV7L0MipZk9NWta9yxu2O4qo46GRE1seyztqX5/wASK69kdjurKVA/yXWYORScO/KPo/KUwmDJmyKf6BU9P1VRL9JSE7j9sHfx/hdxGGm0cbTXTjameNWt5+LhXO99vxc2Rt+dVtzKe1e4J0RxHGOF+fGGxu7xwbDKuOWey8X35iDW09PTo7YsvFcfM5iLdsbMyoiObeR1w8Qjm7mRcnKk2jmzh+5UMIAVNuyRFyscwj94pRzrdHC+olbG1Lukc2Nqb3PVGp8an1/rcQpsIop6uZyMhpIZaqV7lsjYqeN00jlXcjGKp1jV3HxnTQ4iPe3b43rBcjXfb73xXF/XLjt/k82dv9LIuJ0LrWfiUMrP2Ykb6D4CcBdZ7I90RozUbO+NJqSotu4+tfL/AKzs15+lX3/Q3v8Aox86gR8qz3bPlIffrEPsdUe95/mXkUOgrWFR2tVniyoJMJZwetyYmHsmDWcAGyKh/wBxNx6Cn7nlztlwgYT7L6KVTES8kTUqY9+aDwlRPdR507T4Tdytp0mgHDnglRI/JS18z8GrFVbN4nE7Qxvd0RVaU0uvZluSk2eAbWWBlq89+ajJN/QMYS+YUF0ViuWq4FH601UyHD/m51YwyvlwyviqGbY3ZrfjIqK1zf1muVO0+32muitHpnovXYTU6o6yLi1da6xyRyMmhkT8qKeKORPcnISG8y5DD/XKlN/3n75xzkszs9B5YxyvnRd70XyqWvPCbfrH+U34e23/AMX1RzvDo59gqP3rT/MRn5tuFP7ZmkPw5i/0jUlMXryLKN+rZ1DV0TeVVDbqKyRuwG8qieqYA5Ddh9h7CGXH8o7r9CHisPJIWq+THhzuAtq6Xrrf+h6PatP8katxHjN9xlljtj3uy1u522D1SjsKdr9tqNxfSLP4aYFJy2KpHEYLMF3CThA/pIGaqzOibk1altcqtnkz69esgK8MTyZtOk+qlqOhxcu8Q1/ytqlx1NfIADiLCVfRNNf7I1xOLtRHyfFx8hGKNm6/b1EmkrIolHyODgMcS2f1liobePqL/PWG+5W9Qj8EbeX8g3mWZOTd1L5ilFyidZ5a/TwuvDHXvK6iWvqBa6m9r8V2NfvSF4o1di5aZlpOdfVdZtR3SEfCSMU5MVtJiiscSPUykKXucihfm5TSyO17DkZEerdW0sar8x/CGN0VnCnADcfpoJKLH7a22b38iRPObt5r6AfQH1iGSZoNy+vaVstTv9fIXluKtR0xRuNmja1x0qP2BaKa6wp7/U9NH5R89do09DJT8BGLFlnDtyVQiLovqFWdLnKoJiiqbt3y0lrFRb3PNc8T792R3x/go48/i1RynLyq9hyFPyXlL9/Rk+5Q9Pb8E/Tn8km+WYuTTqKUvKL1kmWSEYwBgFP/AMY3+s24jfhXOfxMWTIJ9iFql8Zeoo5cS+T24+EnITUvKvSjpaNumtLMs8jk3oPG9avUICSTW962sC6PYF4+UjnJWkgkQxlWnxTR8mCbpJmqFdFspcc1HtsWCvEt8ttVc6Kd0r+U2mHqrijbS0lyCefJzwyYzFQtUXb6pHXOgWVNL2Tk4SQIsxeED5hzJlcICdsugqpvK5HZVIKdqszIpZs8Ln9x10d/hN5Efjqmcnh8Qr1HK+Qhn8YnyguqVo4n8L4eUeR2v5GrWDkdsOMauFEm9um21jNRdZNZdIvsq3iztZx6mifumL1Zq5EvrM25iRzqt0TtJaVqa1P58PP0K+GnK7h6TmHzIoD/AHRJ7Rul6rutaC9t1vq1MqNLoVgVpq84u2pD6NcvZWQk2cgf1XTlRu1ZkaJtm6a4uFlMxxNc26ieZzXWQhf8QR0y9T9NTmBU6VolacDRe99XrbLp1Ussq8n5Ggy8RY1azcac3sUgc7t7HkN8C9j1niir1Er1Roq4XBqmseORuRxLBIsjde1C910BOUl05b9K7jZsLZMy+suxae0tulrjZpRUXEnZXuobU6psNPyjo/z1nbuJbxyz1dQRUcPDLrnMJlBHLETszCnM3LIpVy8Y5+vB4Z/g17A/GgjkM/jJ1L6CxS7F7DqDpVbQ8O7UOBzCP6lFF1rbOUze57SXnEH2pN0WvYkjTnNlVUojaNs1DYmaFP8AACmVr6Ug3UblAvqmSUATZhnFZde02kSfP4OzsIGdCa9mt3c8tV694gV65ke3DlXBP+P0G5cHe3eqUmK2uSzVGas0mzMb0z12Dbov5qRMp6LYrJy4VXEA85orKq6t+rykzlys17tZ7E+2tZVbdeq9l6bvKT5albZoFw1rb0Yt8rFyatYvNecVieTjpND57dczV0qCS5PnJKeU5fcoZyCpdDi0WylNfq2eHl6cHCzpzcm+TGj67uZltHUdTq0pTnNn3NZ7PBIu5XYkNVnQyME/D0XJfhXy4AU/sB/KcPcoZXfExrblmOaRz0Qr89A/gdx86ivN6yaB5LR9wktfRvHy97IZIUm4SNJlyWmu3KtwscstLRYCqduDaTeFO3+aU5zJKCP50ADFG1HOsWJnqxl0PQx6fPSG4bdMqwbQs3FqH2PGSm34eqwdyPetjzd6RWYU16+fwpY5GX9m5iqSLn1DE/RAEgD9rlprGs2FB8jpNpAd4yn9bnwd/CG2B+KhzkVRsTr9BPS+MvUVw+lHuvou6qoG4GHVN45XfeN8l75DPtRylTq1ssDeAoqNYSbTEY8XrlihSJnUkwVWAiqK5xKYDAqBR8hYmrGm1FJ5ElVfBUsBcItx+F73xy649aq43cGtj1vfti2VEyeoLFZKVseGhIG90ZutsKEmXsk6ujtNP4Y8SKyfqNXCZliJkUSMQxskasLl2L69pA9Khrda+vkLtWWSqMAYBS58Zf8AqH8DfpD+nftn3Aewh/S1Q9wEMrz83b6C1TJfN6NSp1LzLuUqo6N39B3GIjq1bJJtE3VggkxBaQWTas7OmgQEkHrR0r2IDoxQD125hKY6ndRHzgcSk6vadcH9bg1ZJU0kbpaKRyvtGmZ9MrlurHtTwuKRfEkRLInguta6/aHuZu6q0a4QMAo8Gx6shodI6WJlMj6qRsNPjLImoyKop53q2NK1zERKqle5r3yos0HGNerWZBz1Wr9nbotbNXoqebImFRulLxyD0qJj/bHbGWKIk831iQQ831989eUGK4hhkiupqiWBy6nLFIrL9DkRbL2pqO2WlGg+iWmlJHDjOE0OKQxqr4WV9JFUpGrtroXSNV0ebVdY3Jm1XufRGw8RXY0GURGRsFENfOr8Oxat42PQ83uosp6YFIA+3zjn9/b3H2zSprKvEanPLLJPM6yZnudJI7ciXuvU1OxC3g2j+j+iGDpT0FHR4XQQ5n8VTQw0dLHfx5HZEZGirbw5HrdbeE7UYZ8it9w7qHfa9o0glKKSf9DWefZKeePQYFP3WhY10X2WUWEPK4VTEUiJeZIpjmObye5+DnQGsirWYhXRrEkXhU1O9LSK+2qaVq62NZtjY7wnOs5URG6/nT3XXdT6P1+j9VolozVsrX1n1HGsVpnZqWKmRyLJh1HM3waiWoVMlXPEqwxw5oWPe+R/F5C00BHpicNuwCIj1eeQYB2+v+pX1x7Z7W0yW2iGI+9Kj5B0e7n1qrw96IW2+z2G7Pz52u8RW+FffnSn6Tef1hv/AIY2dOo3t41mtPHZz/lIfoJxCCf2PqfAd9b1H3q/1L+gg5AxyCU6RxTVIYqiShftk1SD5k1C/ulEAEM7zqjXJZUui6lTei7U7UPzOtfLGqOY5WPa7Mx6bWPauZjk6WuRFTpQmb17Yxu9Hq1qSKY55iHarPPIAm9OSRD4SUSMIfWDhNTOl2kOG+wmOVVKuriZnIzpjXwol7Y3NP0U8EmmP85PBngeOMRXOxDD4JKjKl8tZGnEVrFtztqopUtusc1SQW9VP85V/RCf2M3/ABs4R725V1psXnPZEUE/Gt8B3jJ96u8tc+E39uEHKYB/b7bf/F9Uc7xaOfYKj960/wAxGfmz4VNXCZpD8OYv9I1JTE68qSi/Vr6hyKRROqtt1FJIgdu51FNUQBCFDv8AfHLj+Ud1+hDxWHkkLffIfr/dOOidK6S1FqzerDcnIqa4eR2ja/q+m1a9FXjb/YNQJ6/cvLPYZiKbRjNhDuVVHL05nYqLJtjIsk11lUyjO6RmTsKjYJM+7WVmfDQcebZuTqx6AsMFGPXVP40wF43FsKeTR7soRiSiyGvqW0eLj80q8lMSrcjdLv6iqLV+sQpiNFhLFEl3p0FmodaPrPQb6w33K3qEfgjby/kG8yzJybupfMUouUTrPMP6VTbg+75ua0Q6jCtcR4kGrGyTX09sf3eNg/l8lMcDQgcvNdKJSxTfKvoekCBwTMfsC/dLuA025c2vYchLnyeDtLZi1Z8GSukqgq/0AZJZM6Shfs25lh5k1C+Q5e5X/f3Afq98mvT+tyr/AL10/EWyOLWzdB7g49alv3FuzRNw49yFRZw2p5+C+W/kh1UqYqpSmjZiNkIm/MRoePUaeZ0X1jigJjGP385rCWsVlui6zzW/E+/dkd7/AOCjjz+LVHKcvKr2HIU/JeUsodNXxAnSu46cAeH2iNs8gLDXtm6l4/a2ol7gm+lN0TaERaK9XUWExHozEHBOGbkqaxTFKu2XVRUAPMQ4gOTRyMRiIV5IZFeq2596E5fCDqi8K+otIbIjOJW0JTYj3UzSrPr0lI682FRgiW1zWfoV46Sl4jI8rn1jRrwBBsKopemAqgT1E/NI17XbCF8b2bSQbNzQYBT/APGN/rNuI34Vzn8TFkyCfYhapfGXqIquj700a31QOjLzQ1EkMbDbu17y8fbI43Xh+mmmSvbMaaGrLZSuTD4A9UsHZGwfJMumBhIkB2soVJR3GNcjYzOxd9ySWTi5U6tZVlucPsGizE3qPYcfZapPayuVug7DrmxmdN1qNfmztGAvLFaHVH02z0ysY3bvVEih8UDJsYTqppomyIspZT02PC5/cddHf4TeRH46pnLcPiHH1HK+QhP8YvxvuaexeI3L+PjHb7XitJsfHC3yzdsqo0rFrbWNfYmv0pZwUPIkWXReTiTYxhADLx/o/oiqRTxzprRewlpXJrTtO1vDndajhNx84Rs+IXLPcsBoG66fvF/lqRP3xCRZUq+UG/2Vxekfk2ztElm6MnHP3z9o6YOxbqqNys3LMXQKrkbZika1tlXqMTxPV90QhH8Rl1HdHdQzmZSbBx2m3Fo0rx+1G411GbFcx8hDRt7s85Z17TcrBXmMwk3dhFN0yxzJs4cIpC6VbO3CJRaGbqqxyuRziaCNWN185d88PTxtuHGHpP8AGmpbBh39du9/QuW8J+uyjczWSgk9u253bqzGyLVT56TgkKtGi5RUAqiDgyqKhSnTEMsRJZhUndmkXyFYjxjn68Hhn+DXsD8aCOQz+MnUvoJ6XYvYYucbuitSOYHQusfOLTEfcT8zdZXjdU0vBs557JVnbmt9W2xZvLUZtTnQmRazCcMkq4iHMeCa72RapsnJHBX/AJkNUZmjvz6zZ0ytmtzHWnh1ephW+EPMWoa62XVdYq6X5NS8ZrWX22/plXZ7N1XaLU6RaUmaT2iKBJQ9XdyPwrGYh3bszBoDlKZbggZk5Tdo35XG08edvUeollw44hc8Q/8AcZedP8AqH+OitZHLya+vOSw8qhT98JN91JuX4IG2PxjUvIIfHLdTyfaelLls48pn+Mp/W58Hfwhtgfioc5XqNidfoLVL4y9RBp0SIzodPtY76P1a3WuENgJ7KrxNNkvE7vCIdjQvsPSNNmYJ6mXRbnS+VPVAxnnmcAcBAnZLy942LF996Sabjr+CWJOOFy8JppPfOp9ocdLho6rb2rNxYI6pno2y8rZWQZXC0JKUxgmzj7Ku5j1DuCyKjUAdoKIl9fzj5BKChZWugvq9JXd3wqa9nYW18nK4wBgESnVx6Smt+rTqvVuv7tti66anNP3yQvFQuFQh4SypqfLkAevT8LOVycFMi6K6QoqJKpOW6zdZAogZRM6iRtHszoSRyLGpTo6nXQW4U9KvUNK2vvbmxyZv59kXouvqNr/V+hdQKWmclUYZxYZeTWc22ysGTaPj2jYTOVzKqKCsu0bpIHMv5k6z4+L++XyIWWyLNqypbp2ENMZY+n3CpAhEbv6ocagUOxUGdA4xIoFD7xUQvflAP3gDOGqsBwKtdmmpKaR34z6eJXL1rluef4Lwm8JujkCRUGkGM0cSakip8UrY4mpubGkuRqdCIiHzS8v077AX057cvU7mU/8AkZPXfF96h/lQXvYk/wD5yWkwfCMPW8FNBCu+KGNjv2kS/wAZSx/TvTzStmXFMZxTEWf1dbiNXURf4Ukjo/8ApOP/ACT0xfoC/dRoPvf0ouJ/8985C3SvxHinhp+L69hlhLcgulhI8LKDxAQadSSPeUDkdeeSzPbyUBxYNIyFm2DQYvW01V1KUSxpoox6MdCxqjRZORF4R4R0qodRJyVFvlyRvZlVt057oiovWmxUXcpmJ9VBOkjHrG9qorXxucx7VTY5r22c1yKupWqipvMYfP03/wBlnqa/e/U54wfz7yr3jQ/1UX+DF/CcuukWk6p9kcQ/5hWf90235J6Yv933Ub//AFFxP/nvlmyb18iHEfVOj4z7USdNhsmCTXaPUubJF8wlRbaz4uN0QEw9zeVJG9AUO4+4+3uPvkD6Wlkdd0bHLvdFG5fKqXORp8Zx6jiSOGtq4Y0vaOGsqYo0vrWzI5GtS661smtda6yx1wa8Nnxw5/8AGDWXK7THUL5LQlH2Y2nPQrV01Br5K4VSbq9jd1Ox1yyJQFmeNAcNXzJYAMg5UIsgKLgvlBUChu3DKFyclD/gxfwmHaV6TMdb2RxH/mFZ/wB4todK/pp0HpZcbpXj7RtkW/ba1n2ZZNrW6+XNhFQ7+Wsthi4+B9BhCQ3mSaNG7KLZpkTMs5WUW9dwquYVgInyMcbYm2TZ8XYnMePzTSVEivcquc5VVXOVXOcqrdVc5dblVV1qutedVUit5k+F544czeUm7OU9s5Rb/pdl3dbULdM1arQ2sHFehXaFfZV4rWKWmotd0ZP02JD91lTm85ze/btmroUVbmzKhzG2Oga/4OjhizlWriy8sOVlgh01CmdxLBPT1ecO0wHuZIsqSuuTJd/o7lSEwfUPfNeITept30/chYm4NdPnir06dVONR8WdcJU6ImZBGauloln7mybC2LPN2/wjaavdyku7p8oimJk2jcBSYMEzqJsGjUiqhTStajUIXvc9dZ2vyo0BB8q+N28uNdmsEzVK9vTWFx1dNWWupMFp2CjblCqwruUiEZVNVsZwiRUTpAukdITAHnKIe2ZVLpY1a7K65Vo/Mb3E/wDblcn/AOINOf7lyHiE3lnvp25D9/Mb/E/9uVyf/iDTn+5ccQm8d9O3IWX+CvEircEeJ+m+JdKt1kvdX0zCzULEWy3oRLaxzKM1bZC3LLSiEEig0KYisgdEnopED00yCbufzCMzUyoV3OzOuQ+9RLw4GgOovytuXLC+8kN464s9zrdGrTyqUiJ1y7rrNvRa+SvMnDVexxrl0J1yE9RXzqiUDiPkAC9gCN0SOW5Kyd0aWMIvzG/xP/blcn/4g05/uXNeITeb99O3IS7dJ7ot6i6TEzvGZ1hurae2lt5xuv42ZR2PH0tilBJ69cy7lipEDU2LMTGcDMKgt64nAARS9Py9z992R5FXpIpJVkt0EzuSEQwCLTqrdK/WnVc1RrDU+zdqbC1RGav2UpsyNl9dMqs9kpORUqj+pjGvyWpo7SBD0n51e6ZCqeoQgeby9wzR7EehJHIsamr0q+lnrbpS6j2XqLWe09hbXi9mbN/JOkZjYrKrMpKMkfsTjql8mME6q0aIih6Ucmr3UIZT1FDh5vL5QAxiMQSSLIphV1HvDicS+onyLd8m5TZm0tCbBstci4bY6GqmFHcwmxJiBJ8DDXWbZ2qPdmSliMARjnC7c5CPGzRkKyYroGVV1dEjlubMnexLEmvTn4K0vpw8VadxSoF6t2x6zTrDerC0td4bQbSxPHF7trq3PW7pCuINmoEQVdmSS8iQGFMpROIm7jm7W5UI3vV7rmSG79Haj5Jaruekd7UCvbP1TsGKNDW6lWhoZ1FSzIVSuEDgZIxFm7husRNwzeNVUXjJ0ki6aLouEk1S5VEVDCKqKVS9ueDq4n2SyvJTSvLLfuoa26WMshT7RXqVt5tElObzC0jJ56ENImRJ9Cfx7h85Avb1XKxu5xhWBN5ZSqduMoeEvhZuBvFfYdd2zti1bD5c3WnyrOcqsNtNnWoDUsVNxq5XcbMPNZ1xESyqzdYhVUUpmQkWBVClOLEyhSHLlsLU6TR9Q93R5yzTkxAQb9VfoX6Y6ru0dUbT2bvPbep5TU1BmtfxcZrqNo75hKsJuxFsS76RPa2LtQFiqFBMoJGKTyfSHfuIxvjR5LHKsZmj02uAlH6anF2E4ta8v1x2VW4S43i5pWm9NoJpYF3l6nDTj5oqjXEGzX00TmEiQlSAwl+2ERzZrUYljR71e65BdvDwjPDDbm3dpbLrvIbfmo4LZV2sd0a6ypMVrJWp0Y9pfnlpGAqa8tFKu02CTlVYzJJRU4tEDJtkz+miTI1gapO2peibyzxpSgTuqdQ611lZdh2Lbc5r+lV2nSOzbg1jGlsvStdjE4olms6MMRJqMg7IkVV4ogmmRZwKiwEJ5/KEqakK6rdTprnVxIq3O7ifuTiXdbdZKJV9zQsLCy9tqCES5scMjC22PtyS0WhOouGhjHVjyIn9ZE4emocS9j+UwHJmQy12V1yLPpi+H10Z0v8AkdK8kNc8hNz7RsEtq2zarVrd/itfsoNKNs89Ez7iVTWrEc1c/EJHiEk0yioKQkWU8xRMBBCNsWV17kkk7pG2sWAclISKDqudJrV/VioWoKDs/bGxtTstO3ibvURIa6ZVV89lns5Wz1pZlJEtTR2mCREzicopFKfz/SIhmj2I8kjkWNSEv8xv8T/25XJ/+INOf7lyPiE3k3fTtyHKKN4QfivRb1Rr005fclpB5RbtUbuyYPYHUZWb57T7E2sbNm7M2hyKAkqo2KRQSGA3kMPlHvjiEMLUuXmQt15OVhgDAGAeev4vTdkrsbmlxb4sVgkpYD6j0fNbHd1iDjn8tKOLjuu2jENStoqOTUXXVTjKwgJfTTP2K+Eoe5hyrOvhF2lREaqkImhei71T+SIsF9a8JdzR8LJJkWa2ra8Ww0jWDtz/AEOiPtsOIhZZP6+7Vs4Ef60ph9sjRj12J6CZZY285NRoTwf3Mu5DHP8AkVyU0Vo6MceU7+E1/EWvdlwaEH7dIyrz7GYkin3hTePE+/3w+mRIHrtshE6qbzITVaF8JT029bBHvtz2zf8AyUmmpyqO21lvKGtKW8MXsIkLXNVt41+CYj9JFptx7ewiP0jIkLSFamRdyEiU30C+j3O1IlMX4Haajo5JEUUJav8A2WVy6Im8glK4+z6EkkJpRUO/fzrP1BMPb1PP9GbcVHuNOOl3kUe+PCBcH7oLh9x+33yB0DIqmVUSip11Xt10xAxvdNJNhZEY+a8gfR86wHN2+vNFgbvXzkiVT+ghb3t4R3qI69B2+0jtLjxyKjE1FfhI00xYdNXVdEvun3irWhIQ3nMHt72Ahe/0iAe+aLC/oJkqmLvQhc330qupFxkLIOd0cKt/16FjDGK7tlbpa+z6UmUncRWPb9WHmmCafYO4GWXS9vcQDI3Nc3mJUkjdzoW+PB38jBsGgeWfEuXdgWU0ztmvbcrkW4BUj5nW9yQZoidZGbqgBkgbzNdXcHTMBTFUlO/l+cbJoF1KnSVapPCuXKssFUYAwBgDAGAMAYAwBgDAGAMAYAwBgDAGAMAYAwBgDAGAMAYAwBgDAGAMAYAwBgDANj+xit/ZANs+x6D+yo0enEGs3ySw+yAYpJQ6yUYMz6fxHw5TqKGKj6npgY5zAXuYe4G+YAwBgDAGAMAYBx6NqNUh5mascRWK9FWGxlaEsM9GwsaxmZ4rAVBYlmpRsmVd0CPqq+kC5z+n6ink7ec3cDkOAMAYAwBgDAGAMAYAwBgDAGAMAYAwBgDAGAMAYAwBgDAGAMAYAwBgDAGAMAYAwBgDAGAMAYAwBgDAGAMAYAwBgDAGAMAYAwBgDAGAMAYAwBgDAGAMAYAwBgDAGAMAYAwBgDAGAMAYAwBgDAGAMAYAwBgDAGAMAYAwBgDAGAMAYAwBgDAGAMAYAwBgDAGAMAYAwBgDAGAMAYAwBgDAGAMAYAwBgDAGAMAYAwBgDAGAMAYAwBgDAGAMAYAwBgDAGAMAYAwBgDAGAMAYAwBgDAGAMAYAwBgDAGAMAYAwBgDAGAMAYAwBgDAGAMAYAwBgDAGAMAYAwBgDAGAMAYAwBgDAGAMAYAwBgDAGAMAYAwBgDAGAMAYAwBgDAGAMAYAwBgDAGAMAYAwBgDAGAMAYAwBgDAGAMAYAwBgDAGAMAYAwBgDAGAMAYAwBgDAGAMAYAwBgDAGAMAYAwBgDAGAMAYAwBgDAGAMAYAwBgDAGAMAYAwBgDAGAMAYAwBgDAGAMAYAwBgDAGAMAYAwBgDAGAMAYAwBgDAGAMAYB/9k=)\n",
        "\n",
        "---"
      ]
    },
    {
      "cell_type": "markdown",
      "metadata": {
        "id": "SjGSdZxP4sQt"
      },
      "source": [
        "## **Nombre y Códigos de los Estudiantes:**\n",
        "- Estudiante 1: Sonya Castro (200150166)\n",
        "- Estudiante 2\n",
        "- Estudiante 3\n",
        "- Estudiante 4"
      ]
    },
    {
      "cell_type": "markdown",
      "metadata": {
        "id": "1dF0EGFk5zxa"
      },
      "source": [
        "## **Indicaciones:**\n",
        "\n",
        "1. **El proyecto debe ser entregado a más tardar a las 11:59 p.m. del domingo 12 de mayo del 2024**, después de esto el enlace para enviar el proyecto se cerrará. Asegúrese de enviar el proyecto antes de la hora de finalización, no se aceptarán proyectos enviados por ningún otro medio.\n",
        "2. El proyecto debe ser realizado en equipos de **4 integrantes**.\n",
        "3. Cree una copia de este archivo de Google Colab.\n",
        "4. Utilice la librería `pycryptodome` para el desarrollo del proyecto.\n",
        "  - Puede instalarla ejecutando el siguiente código en una celda del archivo de Google Colab: `!pip install pycryptodome`.\n",
        "5. Únicamente envíe el cuaderno de Jupyter con los códigos, las respuestas y el informe correspondiente."
      ]
    },
    {
      "cell_type": "markdown",
      "metadata": {
        "id": "329uSSwldlcY"
      },
      "source": [
        "## **Enunciado:**\n",
        "El objetivo de este proyecto es intentar recuperar una serie de contraseñas que han sido almacenadas de manera segura utilizando 4 protocolos diferentes listados a continuación:\n",
        "1. Protocolo de almacenamiento de contraseñas versión 1.\n",
        "   - Se almacena `(username, H(password))`.\n",
        "2. Protocolo de almacenamiento de contraseñas versión 2.\n",
        "   - Se almacena `(username, salt, H(password || salt))`.\n",
        "3. Protocolo de almacenamiento de contraseñas versión 3.\n",
        "   - Se almacena `(username, salt, H(password || pepper || salt))`.\n",
        "4. Protocolo de almacenamiento de contraseñas utilizando una PBKDF.\n",
        "   - Se almacena `(username, salt, PBKDF(password, salt, 64, 2 ** 20, H))`.\n",
        "     - `64` es el número de bytes que se obtentrán de la función `PBKDF`.\n",
        "     - `2 ** 20` es la dificultad `d` de la función `PBKDF`.\n",
        "\n",
        "En todos los escenarios anteriores la función hash `H` utilizada fue `SHA3_512` de `Crypto.Hash`. Para el último escenario la función PBKDF utilizada fue `PBKDF2` de `Crypto.Protocol.KDF`.\n",
        "\n",
        "En cada escenario deberán obtener la contraseña para cada uno de los integrantes del grupo de trabajo utilizando como identificador el usuario Uninorte. Para ello, deberán utilizar el **archivo de contraseñas comunes** ([rockyou.txt](https://www.kaggle.com/datasets/wjburns/common-password-list-rockyoutxt)) provisto y la base de datos (archivo de contraseñas) correspondiente.\n",
        "\n",
        "Se recomienda paralelizar el proceso de búsqueda de contraseñas para reducir el tiempo de ejecución.\n",
        "\n",
        "Finalmente, se debe realizar un informe (puede ser en el mismo Jupyter Notebook / Google Colab) dónde:\n",
        "1. Se expliquen los métodos / estrategias utilizados para obtener las contraseñas originales.\n",
        "2. Se realice un análisis de los tiempos de ejecución de los métodos propuestos para la recuperación de las contraseñas.\n",
        "3. Se realice un breve análisis de seguridad de los protocolos, contra un atacante que se robe la base de datos de las contraseñas. Adicionalmente, mencione cuál(es) protocolo(s) utilizaria usted para la protección de las contraseñas y por qué.\n",
        "4. Se exponga y justifique los contratiempos y motivos en caso de no recuperar alguna de las contraseñas originales."
      ]
    },
    {
      "cell_type": "markdown",
      "metadata": {
        "id": "hPmja5e1faRU"
      },
      "source": [
        "## Librerias"
      ]
    },
    {
      "cell_type": "code",
      "execution_count": 1,
      "metadata": {
        "colab": {
          "base_uri": "https://localhost:8080/"
        },
        "id": "SW_3NP5HiYc8",
        "outputId": "6f76f49b-2227-4721-e0c7-8d152e955411"
      },
      "outputs": [
        {
          "name": "stdout",
          "output_type": "stream",
          "text": [
            "Requirement already satisfied: pycryptodome in c:\\users\\sonya\\appdata\\local\\programs\\python\\python312\\lib\\site-packages (3.20.0)\n",
            "Note: you may need to restart the kernel to use updated packages.\n"
          ]
        }
      ],
      "source": [
        "%pip install pycryptodome"
      ]
    },
    {
      "cell_type": "code",
      "execution_count": 2,
      "metadata": {
        "id": "8dKBA27DfcHR"
      },
      "outputs": [],
      "source": [
        "import pandas as pd\n",
        "from time import time\n",
        "\n",
        "from Crypto.Hash import SHA3_512\n",
        "from Crypto.Protocol.KDF import PBKDF2"
      ]
    },
    {
      "cell_type": "markdown",
      "metadata": {
        "id": "Cx3iqoPKmRU8"
      },
      "source": [
        "## Setup"
      ]
    },
    {
      "cell_type": "code",
      "execution_count": 3,
      "metadata": {
        "id": "IHNNrWj8hAif"
      },
      "outputs": [],
      "source": [
        "usernames = ['sonyac', 'awperez', 'mhiguita', 'cleonard']"
      ]
    },
    {
      "cell_type": "code",
      "execution_count": 16,
      "metadata": {
        "id": "GfS5K6BElr0f"
      },
      "outputs": [],
      "source": [
        "def H(data: str, salt: str = None, pepper: str = None) -> str:\n",
        "  \"\"\"Hash function using SHA3_512\n",
        "\n",
        "  Args:\n",
        "      data (str)\n",
        "      salt (str, optional): Defaults to None.\n",
        "      pepper (str, optional): Defaults to None.\n",
        "\n",
        "  Returns:\n",
        "      str: hashed data\n",
        "  \"\"\"\n",
        "  \n",
        "  h = SHA3_512.new(data=bytes(data, \"utf-8\"))\n",
        "\n",
        "  if pepper != None: \n",
        "    h.update(bytes(pepper, \"utf-8\"))\n",
        "  \n",
        "  if salt != None: \n",
        "    h.update(bytes(salt, \"utf-8\"))\n",
        "\n",
        "  return h.hexdigest()"
      ]
    },
    {
      "cell_type": "code",
      "execution_count": 17,
      "metadata": {
        "id": "xWNqKTatt9KV"
      },
      "outputs": [],
      "source": [
        "def timer(f):\n",
        "  def wrap(*args, **kwargs):\n",
        "    t1 = time()\n",
        "    result = f(*args, **kwargs)\n",
        "    t2 = time()\n",
        "    print(f'Function {f.__name__!r} executed in {(t2-t1):.4f}s')\n",
        "    return result\n",
        "  return wrap"
      ]
    },
    {
      "cell_type": "markdown",
      "metadata": {
        "id": "F2_cl-dT5xl1"
      },
      "source": [
        "## **Caso 1 (Protocolo V.1):**"
      ]
    },
    {
      "cell_type": "code",
      "execution_count": 6,
      "metadata": {
        "id": "JEobVRWU59yN"
      },
      "outputs": [],
      "source": [
        "filename = 'password_database_v1.csv'"
      ]
    },
    {
      "cell_type": "code",
      "execution_count": 7,
      "metadata": {
        "colab": {
          "base_uri": "https://localhost:8080/",
          "height": 175
        },
        "id": "xbJ9h6ahPIS-",
        "outputId": "306af7af-5f15-431a-be8b-50e21ec1f9eb"
      },
      "outputs": [
        {
          "data": {
            "text/html": [
              "<div>\n",
              "<style scoped>\n",
              "    .dataframe tbody tr th:only-of-type {\n",
              "        vertical-align: middle;\n",
              "    }\n",
              "\n",
              "    .dataframe tbody tr th {\n",
              "        vertical-align: top;\n",
              "    }\n",
              "\n",
              "    .dataframe thead th {\n",
              "        text-align: right;\n",
              "    }\n",
              "</style>\n",
              "<table border=\"1\" class=\"dataframe\">\n",
              "  <thead>\n",
              "    <tr style=\"text-align: right;\">\n",
              "      <th></th>\n",
              "      <th>username</th>\n",
              "      <th>password</th>\n",
              "    </tr>\n",
              "  </thead>\n",
              "  <tbody>\n",
              "    <tr>\n",
              "      <th>6</th>\n",
              "      <td>cleonard</td>\n",
              "      <td>b1341f3768fe16d6867037c1dc57bb5d74995f3be86259...</td>\n",
              "    </tr>\n",
              "    <tr>\n",
              "      <th>7</th>\n",
              "      <td>sonyac</td>\n",
              "      <td>ab0dee66b5b53241f336d588014002cd849f8fed5f847d...</td>\n",
              "    </tr>\n",
              "    <tr>\n",
              "      <th>26</th>\n",
              "      <td>awperez</td>\n",
              "      <td>bb23702961eaf057dc60d64de843d9b00d01d07df59789...</td>\n",
              "    </tr>\n",
              "    <tr>\n",
              "      <th>34</th>\n",
              "      <td>mhiguita</td>\n",
              "      <td>b457ebd7121c0865af8b7f740f8f6b147a9571981deda2...</td>\n",
              "    </tr>\n",
              "  </tbody>\n",
              "</table>\n",
              "</div>"
            ],
            "text/plain": [
              "    username                                           password\n",
              "6   cleonard  b1341f3768fe16d6867037c1dc57bb5d74995f3be86259...\n",
              "7     sonyac  ab0dee66b5b53241f336d588014002cd849f8fed5f847d...\n",
              "26   awperez  bb23702961eaf057dc60d64de843d9b00d01d07df59789...\n",
              "34  mhiguita  b457ebd7121c0865af8b7f740f8f6b147a9571981deda2..."
            ]
          },
          "execution_count": 7,
          "metadata": {},
          "output_type": "execute_result"
        }
      ],
      "source": [
        "db_v1 = pd.read_csv(f\"data/{filename}\")\n",
        "db_v1 = db_v1[db_v1['username'].isin(usernames)]\n",
        "db_v1"
      ]
    },
    {
      "cell_type": "markdown",
      "metadata": {
        "id": "GKcU4uYJj8TI"
      },
      "source": [
        "### **Método**: Ataque de diccionario"
      ]
    },
    {
      "cell_type": "markdown",
      "metadata": {
        "id": "2NdZ0daNoSST"
      },
      "source": [
        "rockyou.txt contains 14,341,564 unique passwords, used in 32,603,388 accounts."
      ]
    },
    {
      "cell_type": "code",
      "execution_count": 18,
      "metadata": {
        "id": "ikWrpYVZrBRh"
      },
      "outputs": [],
      "source": [
        "class DicctionaryAttack:\n",
        "  \n",
        "  def __init__(self) -> None:\n",
        "    self.d = {}\n",
        "\n",
        "  @timer\n",
        "  def generate(self, filename: str):\n",
        "    with open(filename, \"r\", encoding=\"ISO-8859-1\") as plain_pwd:\n",
        "      for plain in plain_pwd:\n",
        "        plain = plain.strip()\n",
        "\n",
        "        hash = H(plain)\n",
        "        self.d[hash] = plain\n",
        "\n",
        "  @timer\n",
        "  def save(self, filename: str):\n",
        "    with open(filename, 'w+', encoding=\"ISO-8859-1\") as hash_pwd:\n",
        "      for hash, pwd in self.d.items():\n",
        "        hash_pwd.write(hash + \",\" + pwd + \"\\n\")\n",
        "\n",
        "  @timer\n",
        "  def load(self, hash_filename: str):\n",
        "    with open(hash_filename, \"r\", encoding=\"ISO-8859-1\") as hash_pwd:\n",
        "      for line in hash_pwd:\n",
        "        hash, pwd = line.strip().split(\",\", 1)\n",
        "        self.d[hash] = pwd\n",
        "\n",
        "  @timer\n",
        "  def find(self, hash):\n",
        "    return self.d.get(hash, None)"
      ]
    },
    {
      "cell_type": "code",
      "execution_count": 10,
      "metadata": {
        "id": "JEGQJNgApmNv"
      },
      "outputs": [
        {
          "name": "stdout",
          "output_type": "stream",
          "text": [
            "Function 'generate' executed in 378.7280s\n"
          ]
        }
      ],
      "source": [
        "attack = DicctionaryAttack(H)\n",
        "attack.generate('./data/rockyou.txt')"
      ]
    },
    {
      "cell_type": "code",
      "execution_count": 20,
      "metadata": {},
      "outputs": [
        {
          "name": "stdout",
          "output_type": "stream",
          "text": [
            "Function 'save' executed in 19.4660s\n"
          ]
        }
      ],
      "source": [
        "attack.save('./data/v1/screwyou.txt')"
      ]
    },
    {
      "cell_type": "code",
      "execution_count": 25,
      "metadata": {
        "colab": {
          "base_uri": "https://localhost:8080/"
        },
        "id": "u2Yc51CrzAo0",
        "outputId": "e7879b66-c204-4f70-d7f2-55de8f00c298"
      },
      "outputs": [
        {
          "name": "stdout",
          "output_type": "stream",
          "text": [
            "Function 'find' executed in 0.0000s\n"
          ]
        }
      ],
      "source": [
        "# Prueba\n",
        "result = attack.find(H(\"pollito\"))\n",
        "assert(result == 'pollito'), f\"Test failed. Expected pollito, got {result}.\""
      ]
    },
    {
      "cell_type": "markdown",
      "metadata": {},
      "source": [
        "### Resultados"
      ]
    },
    {
      "cell_type": "code",
      "execution_count": 27,
      "metadata": {
        "colab": {
          "base_uri": "https://localhost:8080/"
        },
        "id": "1sakmyUP8gwl",
        "outputId": "adb39383-2a07-4a47-a3cc-42840a48f582"
      },
      "outputs": [
        {
          "name": "stdout",
          "output_type": "stream",
          "text": [
            "Function 'find' executed in 0.0000s\n",
            "cleonard 0923612667jfb \n",
            "\n",
            "Function 'find' executed in 0.0000s\n",
            "sonyac shmily69 \n",
            "\n",
            "Function 'find' executed in 0.0000s\n",
            "awperez 19no583 \n",
            "\n",
            "Function 'find' executed in 0.0008s\n",
            "mhiguita camycarmen \n",
            "\n"
          ]
        }
      ],
      "source": [
        "for index, row in db_v1.iterrows():\n",
        "    hash_pwd = row[\"password\"]\n",
        "    pwd = attack.find(hash_pwd)\n",
        "\n",
        "    print(row[\"username\"], pwd, \"\\n\")\n",
        "    assert(hash_pwd == H(pwd)), f\"Test failed. Expected {hash_pwd}, got {H(pwd)}.\"    "
      ]
    },
    {
      "cell_type": "markdown",
      "metadata": {
        "id": "jGJGnYdY59SQ"
      },
      "source": [
        "## **Caso 2 (Protocolo V.2):**"
      ]
    },
    {
      "cell_type": "code",
      "execution_count": 37,
      "metadata": {
        "id": "_Td3k0xC588_"
      },
      "outputs": [],
      "source": [
        "filename = 'password_database_v2.csv'"
      ]
    },
    {
      "cell_type": "code",
      "execution_count": 38,
      "metadata": {
        "colab": {
          "base_uri": "https://localhost:8080/",
          "height": 175
        },
        "id": "YJ8EZqlKPRIb",
        "outputId": "7001b46b-1bea-41f3-8600-f0e7b6c26a7d"
      },
      "outputs": [
        {
          "data": {
            "text/html": [
              "<div>\n",
              "<style scoped>\n",
              "    .dataframe tbody tr th:only-of-type {\n",
              "        vertical-align: middle;\n",
              "    }\n",
              "\n",
              "    .dataframe tbody tr th {\n",
              "        vertical-align: top;\n",
              "    }\n",
              "\n",
              "    .dataframe thead th {\n",
              "        text-align: right;\n",
              "    }\n",
              "</style>\n",
              "<table border=\"1\" class=\"dataframe\">\n",
              "  <thead>\n",
              "    <tr style=\"text-align: right;\">\n",
              "      <th></th>\n",
              "      <th>username</th>\n",
              "      <th>salt</th>\n",
              "      <th>password</th>\n",
              "    </tr>\n",
              "  </thead>\n",
              "  <tbody>\n",
              "    <tr>\n",
              "      <th>6</th>\n",
              "      <td>cleonard</td>\n",
              "      <td>a81928e5f0f702f7cdcbba9ac96521c7</td>\n",
              "      <td>5c01545c628590a2d2072d314f5c3eef5d52afd40141f9...</td>\n",
              "    </tr>\n",
              "    <tr>\n",
              "      <th>7</th>\n",
              "      <td>sonyac</td>\n",
              "      <td>9561a9e469aaa3c065108e1dfeff0013</td>\n",
              "      <td>4608e8818ef3c4e30c04dc48b0c5ae8275bbad82bdd8b0...</td>\n",
              "    </tr>\n",
              "    <tr>\n",
              "      <th>26</th>\n",
              "      <td>awperez</td>\n",
              "      <td>a57380d3093d9a596a08b5fdee1cf414</td>\n",
              "      <td>5e5a576eb2c6d109ac0dd4cdde6e803238ae5e6159f5e0...</td>\n",
              "    </tr>\n",
              "    <tr>\n",
              "      <th>34</th>\n",
              "      <td>mhiguita</td>\n",
              "      <td>9ffd77ed58231bfabfdc0ceafe8b47c3</td>\n",
              "      <td>0e7cd1aea3597bde370e3fa47873480993a960bd1c98ea...</td>\n",
              "    </tr>\n",
              "  </tbody>\n",
              "</table>\n",
              "</div>"
            ],
            "text/plain": [
              "    username                              salt  \\\n",
              "6   cleonard  a81928e5f0f702f7cdcbba9ac96521c7   \n",
              "7     sonyac  9561a9e469aaa3c065108e1dfeff0013   \n",
              "26   awperez  a57380d3093d9a596a08b5fdee1cf414   \n",
              "34  mhiguita  9ffd77ed58231bfabfdc0ceafe8b47c3   \n",
              "\n",
              "                                             password  \n",
              "6   5c01545c628590a2d2072d314f5c3eef5d52afd40141f9...  \n",
              "7   4608e8818ef3c4e30c04dc48b0c5ae8275bbad82bdd8b0...  \n",
              "26  5e5a576eb2c6d109ac0dd4cdde6e803238ae5e6159f5e0...  \n",
              "34  0e7cd1aea3597bde370e3fa47873480993a960bd1c98ea...  "
            ]
          },
          "execution_count": 38,
          "metadata": {},
          "output_type": "execute_result"
        }
      ],
      "source": [
        "db_v2 = pd.read_csv(f\"data/{filename}\")\n",
        "db_v2 = db_v2[db_v2['username'].isin(usernames)]\n",
        "db_v2"
      ]
    },
    {
      "cell_type": "markdown",
      "metadata": {
        "id": "hJCqqufi_wkt"
      },
      "source": [
        "### **Método**: Ataque de diccionario con sal"
      ]
    },
    {
      "cell_type": "code",
      "execution_count": 41,
      "metadata": {
        "id": "Lbx6zYzM_1yH"
      },
      "outputs": [],
      "source": [
        "class DicctionaryAttackWithSalt:\n",
        "\n",
        "  def __init__(self) -> None:\n",
        "    self.d = {}\n",
        "\n",
        "  @timer\n",
        "  def find(self, hash, salt, filename = 'data/rockyou.txt'):\n",
        "    with open(filename, \"r\", encoding=\"ISO-8859-1\") as plain_pwd:\n",
        "      for pwd in plain_pwd:\n",
        "        pwd = pwd.strip()\n",
        "        if H(pwd, salt) == hash: \n",
        "          return pwd"
      ]
    },
    {
      "cell_type": "markdown",
      "metadata": {
        "id": "lrk216Oo92Fe"
      },
      "source": [
        "Pre-test"
      ]
    },
    {
      "cell_type": "code",
      "execution_count": 42,
      "metadata": {},
      "outputs": [
        {
          "name": "stdout",
          "output_type": "stream",
          "text": [
            "Function 'find' executed in 0.0205s\n"
          ]
        }
      ],
      "source": [
        "_, salt, password = db_v2.iloc[1]\n",
        "\n",
        "attack = DicctionaryAttackWithSalt()\n",
        "result = attack.find(H('pollito', salt), salt)\n",
        "assert(result == 'pollito')"
      ]
    },
    {
      "cell_type": "markdown",
      "metadata": {},
      "source": [
        "### Resultados"
      ]
    },
    {
      "cell_type": "code",
      "execution_count": 43,
      "metadata": {},
      "outputs": [
        {
          "name": "stdout",
          "output_type": "stream",
          "text": [
            "cleonard b'5c01545c628590a2d2072d314f5c3eef5d52afd40141f9b76de6683cf56d3f89950228a5781330ae8308becbd3e52f85ea08f2dc6ff4a69b0493c5757193943a' b'a81928e5f0f702f7cdcbba9ac96521c7'\n",
            "sonyac b'4608e8818ef3c4e30c04dc48b0c5ae8275bbad82bdd8b06251512fe7ecd0fd88f591816e032c9fdec9f54070da5016a4303c561c6ffb71b3403a996ff2519c58' b'9561a9e469aaa3c065108e1dfeff0013'\n",
            "awperez b'5e5a576eb2c6d109ac0dd4cdde6e803238ae5e6159f5e079e45667c426b05866e633971e159a2ba8b12e19829a9352acd9459ff6bc252c7bd8deb2a73f289171' b'a57380d3093d9a596a08b5fdee1cf414'\n",
            "mhiguita b'0e7cd1aea3597bde370e3fa47873480993a960bd1c98ea1bb76ddfec716a8579f26bbb240e16e4e82136e47cf2423de29a0c30e40f1406188c32bf3e5a512be2' b'9ffd77ed58231bfabfdc0ceafe8b47c3'\n"
          ]
        }
      ],
      "source": [
        "for index, row in db_v2.iterrows():\n",
        "    attack = DicctionaryAttackWithSalt()\n",
        "    username, salt, hash_pwd = row\n",
        "\n",
        "    pwd = attack.find(hash_pwd, salt)\n",
        "    print(username, pwd, \"\\n\")\n",
        "    \n",
        "    # assert(hash_pwd == H(pwd)), f\"Test failed. Expected {hash_pwd}, got {H(pwd)}.\"    "
      ]
    },
    {
      "cell_type": "markdown",
      "metadata": {
        "id": "jlfKrwdF6CLf"
      },
      "source": [
        "## **Caso 3 (Protocolo V.3):**"
      ]
    },
    {
      "cell_type": "code",
      "execution_count": 21,
      "metadata": {
        "id": "tGWbmKM96G5O"
      },
      "outputs": [],
      "source": [
        "filename = 'password_database_v3.csv'"
      ]
    },
    {
      "cell_type": "code",
      "execution_count": 22,
      "metadata": {
        "colab": {
          "base_uri": "https://localhost:8080/",
          "height": 175
        },
        "id": "8GDgNcttPTcI",
        "outputId": "ff2581dc-5dd8-4778-f5aa-caad88445d51"
      },
      "outputs": [
        {
          "data": {
            "application/vnd.google.colaboratory.intrinsic+json": {
              "summary": "{\n  \"name\": \"db_v2\",\n  \"rows\": 4,\n  \"fields\": [\n    {\n      \"column\": \"username\",\n      \"properties\": {\n        \"dtype\": \"string\",\n        \"num_unique_values\": 4,\n        \"samples\": [\n          \"sonyac\",\n          \"mhiguita\",\n          \"cleonard\"\n        ],\n        \"semantic_type\": \"\",\n        \"description\": \"\"\n      }\n    },\n    {\n      \"column\": \"salt\",\n      \"properties\": {\n        \"dtype\": \"string\",\n        \"num_unique_values\": 4,\n        \"samples\": [\n          \"9561a9e469aaa3c065108e1dfeff0013\",\n          \"9ffd77ed58231bfabfdc0ceafe8b47c3\",\n          \"a81928e5f0f702f7cdcbba9ac96521c7\"\n        ],\n        \"semantic_type\": \"\",\n        \"description\": \"\"\n      }\n    },\n    {\n      \"column\": \"password\",\n      \"properties\": {\n        \"dtype\": \"string\",\n        \"num_unique_values\": 4,\n        \"samples\": [\n          \"4608e8818ef3c4e30c04dc48b0c5ae8275bbad82bdd8b06251512fe7ecd0fd88f591816e032c9fdec9f54070da5016a4303c561c6ffb71b3403a996ff2519c58\",\n          \"0e7cd1aea3597bde370e3fa47873480993a960bd1c98ea1bb76ddfec716a8579f26bbb240e16e4e82136e47cf2423de29a0c30e40f1406188c32bf3e5a512be2\",\n          \"5c01545c628590a2d2072d314f5c3eef5d52afd40141f9b76de6683cf56d3f89950228a5781330ae8308becbd3e52f85ea08f2dc6ff4a69b0493c5757193943a\"\n        ],\n        \"semantic_type\": \"\",\n        \"description\": \"\"\n      }\n    }\n  ]\n}",
              "type": "dataframe",
              "variable_name": "db_v2"
            },
            "text/html": [
              "\n",
              "  <div id=\"df-0489b18c-b15a-44c5-9b80-f0626c435cae\" class=\"colab-df-container\">\n",
              "    <div>\n",
              "<style scoped>\n",
              "    .dataframe tbody tr th:only-of-type {\n",
              "        vertical-align: middle;\n",
              "    }\n",
              "\n",
              "    .dataframe tbody tr th {\n",
              "        vertical-align: top;\n",
              "    }\n",
              "\n",
              "    .dataframe thead th {\n",
              "        text-align: right;\n",
              "    }\n",
              "</style>\n",
              "<table border=\"1\" class=\"dataframe\">\n",
              "  <thead>\n",
              "    <tr style=\"text-align: right;\">\n",
              "      <th></th>\n",
              "      <th>username</th>\n",
              "      <th>salt</th>\n",
              "      <th>password</th>\n",
              "    </tr>\n",
              "  </thead>\n",
              "  <tbody>\n",
              "    <tr>\n",
              "      <th>6</th>\n",
              "      <td>cleonard</td>\n",
              "      <td>a81928e5f0f702f7cdcbba9ac96521c7</td>\n",
              "      <td>5c01545c628590a2d2072d314f5c3eef5d52afd40141f9...</td>\n",
              "    </tr>\n",
              "    <tr>\n",
              "      <th>7</th>\n",
              "      <td>sonyac</td>\n",
              "      <td>9561a9e469aaa3c065108e1dfeff0013</td>\n",
              "      <td>4608e8818ef3c4e30c04dc48b0c5ae8275bbad82bdd8b0...</td>\n",
              "    </tr>\n",
              "    <tr>\n",
              "      <th>26</th>\n",
              "      <td>awperez</td>\n",
              "      <td>a57380d3093d9a596a08b5fdee1cf414</td>\n",
              "      <td>5e5a576eb2c6d109ac0dd4cdde6e803238ae5e6159f5e0...</td>\n",
              "    </tr>\n",
              "    <tr>\n",
              "      <th>34</th>\n",
              "      <td>mhiguita</td>\n",
              "      <td>9ffd77ed58231bfabfdc0ceafe8b47c3</td>\n",
              "      <td>0e7cd1aea3597bde370e3fa47873480993a960bd1c98ea...</td>\n",
              "    </tr>\n",
              "  </tbody>\n",
              "</table>\n",
              "</div>\n",
              "    <div class=\"colab-df-buttons\">\n",
              "\n",
              "  <div class=\"colab-df-container\">\n",
              "    <button class=\"colab-df-convert\" onclick=\"convertToInteractive('df-0489b18c-b15a-44c5-9b80-f0626c435cae')\"\n",
              "            title=\"Convert this dataframe to an interactive table.\"\n",
              "            style=\"display:none;\">\n",
              "\n",
              "  <svg xmlns=\"http://www.w3.org/2000/svg\" height=\"24px\" viewBox=\"0 -960 960 960\">\n",
              "    <path d=\"M120-120v-720h720v720H120Zm60-500h600v-160H180v160Zm220 220h160v-160H400v160Zm0 220h160v-160H400v160ZM180-400h160v-160H180v160Zm440 0h160v-160H620v160ZM180-180h160v-160H180v160Zm440 0h160v-160H620v160Z\"/>\n",
              "  </svg>\n",
              "    </button>\n",
              "\n",
              "  <style>\n",
              "    .colab-df-container {\n",
              "      display:flex;\n",
              "      gap: 12px;\n",
              "    }\n",
              "\n",
              "    .colab-df-convert {\n",
              "      background-color: #E8F0FE;\n",
              "      border: none;\n",
              "      border-radius: 50%;\n",
              "      cursor: pointer;\n",
              "      display: none;\n",
              "      fill: #1967D2;\n",
              "      height: 32px;\n",
              "      padding: 0 0 0 0;\n",
              "      width: 32px;\n",
              "    }\n",
              "\n",
              "    .colab-df-convert:hover {\n",
              "      background-color: #E2EBFA;\n",
              "      box-shadow: 0px 1px 2px rgba(60, 64, 67, 0.3), 0px 1px 3px 1px rgba(60, 64, 67, 0.15);\n",
              "      fill: #174EA6;\n",
              "    }\n",
              "\n",
              "    .colab-df-buttons div {\n",
              "      margin-bottom: 4px;\n",
              "    }\n",
              "\n",
              "    [theme=dark] .colab-df-convert {\n",
              "      background-color: #3B4455;\n",
              "      fill: #D2E3FC;\n",
              "    }\n",
              "\n",
              "    [theme=dark] .colab-df-convert:hover {\n",
              "      background-color: #434B5C;\n",
              "      box-shadow: 0px 1px 3px 1px rgba(0, 0, 0, 0.15);\n",
              "      filter: drop-shadow(0px 1px 2px rgba(0, 0, 0, 0.3));\n",
              "      fill: #FFFFFF;\n",
              "    }\n",
              "  </style>\n",
              "\n",
              "    <script>\n",
              "      const buttonEl =\n",
              "        document.querySelector('#df-0489b18c-b15a-44c5-9b80-f0626c435cae button.colab-df-convert');\n",
              "      buttonEl.style.display =\n",
              "        google.colab.kernel.accessAllowed ? 'block' : 'none';\n",
              "\n",
              "      async function convertToInteractive(key) {\n",
              "        const element = document.querySelector('#df-0489b18c-b15a-44c5-9b80-f0626c435cae');\n",
              "        const dataTable =\n",
              "          await google.colab.kernel.invokeFunction('convertToInteractive',\n",
              "                                                    [key], {});\n",
              "        if (!dataTable) return;\n",
              "\n",
              "        const docLinkHtml = 'Like what you see? Visit the ' +\n",
              "          '<a target=\"_blank\" href=https://colab.research.google.com/notebooks/data_table.ipynb>data table notebook</a>'\n",
              "          + ' to learn more about interactive tables.';\n",
              "        element.innerHTML = '';\n",
              "        dataTable['output_type'] = 'display_data';\n",
              "        await google.colab.output.renderOutput(dataTable, element);\n",
              "        const docLink = document.createElement('div');\n",
              "        docLink.innerHTML = docLinkHtml;\n",
              "        element.appendChild(docLink);\n",
              "      }\n",
              "    </script>\n",
              "  </div>\n",
              "\n",
              "\n",
              "<div id=\"df-f7fdf265-17fb-49e3-83e2-7734e95ac315\">\n",
              "  <button class=\"colab-df-quickchart\" onclick=\"quickchart('df-f7fdf265-17fb-49e3-83e2-7734e95ac315')\"\n",
              "            title=\"Suggest charts\"\n",
              "            style=\"display:none;\">\n",
              "\n",
              "<svg xmlns=\"http://www.w3.org/2000/svg\" height=\"24px\"viewBox=\"0 0 24 24\"\n",
              "     width=\"24px\">\n",
              "    <g>\n",
              "        <path d=\"M19 3H5c-1.1 0-2 .9-2 2v14c0 1.1.9 2 2 2h14c1.1 0 2-.9 2-2V5c0-1.1-.9-2-2-2zM9 17H7v-7h2v7zm4 0h-2V7h2v10zm4 0h-2v-4h2v4z\"/>\n",
              "    </g>\n",
              "</svg>\n",
              "  </button>\n",
              "\n",
              "<style>\n",
              "  .colab-df-quickchart {\n",
              "      --bg-color: #E8F0FE;\n",
              "      --fill-color: #1967D2;\n",
              "      --hover-bg-color: #E2EBFA;\n",
              "      --hover-fill-color: #174EA6;\n",
              "      --disabled-fill-color: #AAA;\n",
              "      --disabled-bg-color: #DDD;\n",
              "  }\n",
              "\n",
              "  [theme=dark] .colab-df-quickchart {\n",
              "      --bg-color: #3B4455;\n",
              "      --fill-color: #D2E3FC;\n",
              "      --hover-bg-color: #434B5C;\n",
              "      --hover-fill-color: #FFFFFF;\n",
              "      --disabled-bg-color: #3B4455;\n",
              "      --disabled-fill-color: #666;\n",
              "  }\n",
              "\n",
              "  .colab-df-quickchart {\n",
              "    background-color: var(--bg-color);\n",
              "    border: none;\n",
              "    border-radius: 50%;\n",
              "    cursor: pointer;\n",
              "    display: none;\n",
              "    fill: var(--fill-color);\n",
              "    height: 32px;\n",
              "    padding: 0;\n",
              "    width: 32px;\n",
              "  }\n",
              "\n",
              "  .colab-df-quickchart:hover {\n",
              "    background-color: var(--hover-bg-color);\n",
              "    box-shadow: 0 1px 2px rgba(60, 64, 67, 0.3), 0 1px 3px 1px rgba(60, 64, 67, 0.15);\n",
              "    fill: var(--button-hover-fill-color);\n",
              "  }\n",
              "\n",
              "  .colab-df-quickchart-complete:disabled,\n",
              "  .colab-df-quickchart-complete:disabled:hover {\n",
              "    background-color: var(--disabled-bg-color);\n",
              "    fill: var(--disabled-fill-color);\n",
              "    box-shadow: none;\n",
              "  }\n",
              "\n",
              "  .colab-df-spinner {\n",
              "    border: 2px solid var(--fill-color);\n",
              "    border-color: transparent;\n",
              "    border-bottom-color: var(--fill-color);\n",
              "    animation:\n",
              "      spin 1s steps(1) infinite;\n",
              "  }\n",
              "\n",
              "  @keyframes spin {\n",
              "    0% {\n",
              "      border-color: transparent;\n",
              "      border-bottom-color: var(--fill-color);\n",
              "      border-left-color: var(--fill-color);\n",
              "    }\n",
              "    20% {\n",
              "      border-color: transparent;\n",
              "      border-left-color: var(--fill-color);\n",
              "      border-top-color: var(--fill-color);\n",
              "    }\n",
              "    30% {\n",
              "      border-color: transparent;\n",
              "      border-left-color: var(--fill-color);\n",
              "      border-top-color: var(--fill-color);\n",
              "      border-right-color: var(--fill-color);\n",
              "    }\n",
              "    40% {\n",
              "      border-color: transparent;\n",
              "      border-right-color: var(--fill-color);\n",
              "      border-top-color: var(--fill-color);\n",
              "    }\n",
              "    60% {\n",
              "      border-color: transparent;\n",
              "      border-right-color: var(--fill-color);\n",
              "    }\n",
              "    80% {\n",
              "      border-color: transparent;\n",
              "      border-right-color: var(--fill-color);\n",
              "      border-bottom-color: var(--fill-color);\n",
              "    }\n",
              "    90% {\n",
              "      border-color: transparent;\n",
              "      border-bottom-color: var(--fill-color);\n",
              "    }\n",
              "  }\n",
              "</style>\n",
              "\n",
              "  <script>\n",
              "    async function quickchart(key) {\n",
              "      const quickchartButtonEl =\n",
              "        document.querySelector('#' + key + ' button');\n",
              "      quickchartButtonEl.disabled = true;  // To prevent multiple clicks.\n",
              "      quickchartButtonEl.classList.add('colab-df-spinner');\n",
              "      try {\n",
              "        const charts = await google.colab.kernel.invokeFunction(\n",
              "            'suggestCharts', [key], {});\n",
              "      } catch (error) {\n",
              "        console.error('Error during call to suggestCharts:', error);\n",
              "      }\n",
              "      quickchartButtonEl.classList.remove('colab-df-spinner');\n",
              "      quickchartButtonEl.classList.add('colab-df-quickchart-complete');\n",
              "    }\n",
              "    (() => {\n",
              "      let quickchartButtonEl =\n",
              "        document.querySelector('#df-f7fdf265-17fb-49e3-83e2-7734e95ac315 button');\n",
              "      quickchartButtonEl.style.display =\n",
              "        google.colab.kernel.accessAllowed ? 'block' : 'none';\n",
              "    })();\n",
              "  </script>\n",
              "</div>\n",
              "\n",
              "  <div id=\"id_62f833a0-4787-442b-b6df-24bd6de87849\">\n",
              "    <style>\n",
              "      .colab-df-generate {\n",
              "        background-color: #E8F0FE;\n",
              "        border: none;\n",
              "        border-radius: 50%;\n",
              "        cursor: pointer;\n",
              "        display: none;\n",
              "        fill: #1967D2;\n",
              "        height: 32px;\n",
              "        padding: 0 0 0 0;\n",
              "        width: 32px;\n",
              "      }\n",
              "\n",
              "      .colab-df-generate:hover {\n",
              "        background-color: #E2EBFA;\n",
              "        box-shadow: 0px 1px 2px rgba(60, 64, 67, 0.3), 0px 1px 3px 1px rgba(60, 64, 67, 0.15);\n",
              "        fill: #174EA6;\n",
              "      }\n",
              "\n",
              "      [theme=dark] .colab-df-generate {\n",
              "        background-color: #3B4455;\n",
              "        fill: #D2E3FC;\n",
              "      }\n",
              "\n",
              "      [theme=dark] .colab-df-generate:hover {\n",
              "        background-color: #434B5C;\n",
              "        box-shadow: 0px 1px 3px 1px rgba(0, 0, 0, 0.15);\n",
              "        filter: drop-shadow(0px 1px 2px rgba(0, 0, 0, 0.3));\n",
              "        fill: #FFFFFF;\n",
              "      }\n",
              "    </style>\n",
              "    <button class=\"colab-df-generate\" onclick=\"generateWithVariable('db_v2')\"\n",
              "            title=\"Generate code using this dataframe.\"\n",
              "            style=\"display:none;\">\n",
              "\n",
              "  <svg xmlns=\"http://www.w3.org/2000/svg\" height=\"24px\"viewBox=\"0 0 24 24\"\n",
              "       width=\"24px\">\n",
              "    <path d=\"M7,19H8.4L18.45,9,17,7.55,7,17.6ZM5,21V16.75L18.45,3.32a2,2,0,0,1,2.83,0l1.4,1.43a1.91,1.91,0,0,1,.58,1.4,1.91,1.91,0,0,1-.58,1.4L9.25,21ZM18.45,9,17,7.55Zm-12,3A5.31,5.31,0,0,0,4.9,8.1,5.31,5.31,0,0,0,1,6.5,5.31,5.31,0,0,0,4.9,4.9,5.31,5.31,0,0,0,6.5,1,5.31,5.31,0,0,0,8.1,4.9,5.31,5.31,0,0,0,12,6.5,5.46,5.46,0,0,0,6.5,12Z\"/>\n",
              "  </svg>\n",
              "    </button>\n",
              "    <script>\n",
              "      (() => {\n",
              "      const buttonEl =\n",
              "        document.querySelector('#id_62f833a0-4787-442b-b6df-24bd6de87849 button.colab-df-generate');\n",
              "      buttonEl.style.display =\n",
              "        google.colab.kernel.accessAllowed ? 'block' : 'none';\n",
              "\n",
              "      buttonEl.onclick = () => {\n",
              "        google.colab.notebook.generateWithVariable('db_v2');\n",
              "      }\n",
              "      })();\n",
              "    </script>\n",
              "  </div>\n",
              "\n",
              "    </div>\n",
              "  </div>\n"
            ],
            "text/plain": [
              "    username                              salt  \\\n",
              "6   cleonard  a81928e5f0f702f7cdcbba9ac96521c7   \n",
              "7     sonyac  9561a9e469aaa3c065108e1dfeff0013   \n",
              "26   awperez  a57380d3093d9a596a08b5fdee1cf414   \n",
              "34  mhiguita  9ffd77ed58231bfabfdc0ceafe8b47c3   \n",
              "\n",
              "                                             password  \n",
              "6   5c01545c628590a2d2072d314f5c3eef5d52afd40141f9...  \n",
              "7   4608e8818ef3c4e30c04dc48b0c5ae8275bbad82bdd8b0...  \n",
              "26  5e5a576eb2c6d109ac0dd4cdde6e803238ae5e6159f5e0...  \n",
              "34  0e7cd1aea3597bde370e3fa47873480993a960bd1c98ea...  "
            ]
          },
          "execution_count": 22,
          "metadata": {},
          "output_type": "execute_result"
        }
      ],
      "source": [
        "db_v3 = pd.read_csv(f\"password_databases/{filename}\")\n",
        "db_v3 = db_v3[db_v3['username'].isin(usernames)]\n",
        "db_v2"
      ]
    },
    {
      "cell_type": "markdown",
      "metadata": {
        "id": "ZLq5v3Ia6Gmn"
      },
      "source": [
        "## **Caso 4 (Protocolo V.PBKDF):**"
      ]
    },
    {
      "cell_type": "code",
      "execution_count": 23,
      "metadata": {
        "id": "zWE4akG36GbP"
      },
      "outputs": [],
      "source": [
        "filename = 'password_database_vPBKDF.csv'"
      ]
    },
    {
      "cell_type": "code",
      "execution_count": 24,
      "metadata": {
        "colab": {
          "base_uri": "https://localhost:8080/",
          "height": 175
        },
        "id": "uJOF3tgAPV2e",
        "outputId": "096fde4e-06e4-47c2-e68b-b85d226a427b"
      },
      "outputs": [
        {
          "data": {
            "application/vnd.google.colaboratory.intrinsic+json": {
              "summary": "{\n  \"name\": \"db_v4\",\n  \"rows\": 4,\n  \"fields\": [\n    {\n      \"column\": \"username\",\n      \"properties\": {\n        \"dtype\": \"string\",\n        \"num_unique_values\": 4,\n        \"samples\": [\n          \"sonyac\",\n          \"mhiguita\",\n          \"cleonard\"\n        ],\n        \"semantic_type\": \"\",\n        \"description\": \"\"\n      }\n    },\n    {\n      \"column\": \"salt\",\n      \"properties\": {\n        \"dtype\": \"string\",\n        \"num_unique_values\": 4,\n        \"samples\": [\n          \"d961c66b3ba34c68613c58a21246ce1c\",\n          \"f6a805e824d392bd0eb7dfea2133bc28\",\n          \"8fed37998d510c9c9592838a95c1e877\"\n        ],\n        \"semantic_type\": \"\",\n        \"description\": \"\"\n      }\n    },\n    {\n      \"column\": \"password\",\n      \"properties\": {\n        \"dtype\": \"string\",\n        \"num_unique_values\": 4,\n        \"samples\": [\n          \"91dfd17c46ea70cc5e44e634742dbb136fc88c1a520555062546c1d1197ed0408e242a51788e7468242dec92fd944b7a464291d897702c61415d7cda8ed6bfa3\",\n          \"0488044185453426d4e3260ed4f4341affd1196c7973b8cfb5993f51fcd963fe0d903421a8e45a36f5376b15d380bdb13bb9e58a643dcaa09016724d467f01b5\",\n          \"dad1b4da1217134f75ee8d0474055744d3af164c4a1e53b8c98516fb13a4e1522b28ae05ddeb15031ce68afe868b314cc08e23c0a8cc86fda68d68cc3c65d08c\"\n        ],\n        \"semantic_type\": \"\",\n        \"description\": \"\"\n      }\n    }\n  ]\n}",
              "type": "dataframe",
              "variable_name": "db_v4"
            },
            "text/html": [
              "\n",
              "  <div id=\"df-6441c59c-bb22-4162-8255-0dd624b568d2\" class=\"colab-df-container\">\n",
              "    <div>\n",
              "<style scoped>\n",
              "    .dataframe tbody tr th:only-of-type {\n",
              "        vertical-align: middle;\n",
              "    }\n",
              "\n",
              "    .dataframe tbody tr th {\n",
              "        vertical-align: top;\n",
              "    }\n",
              "\n",
              "    .dataframe thead th {\n",
              "        text-align: right;\n",
              "    }\n",
              "</style>\n",
              "<table border=\"1\" class=\"dataframe\">\n",
              "  <thead>\n",
              "    <tr style=\"text-align: right;\">\n",
              "      <th></th>\n",
              "      <th>username</th>\n",
              "      <th>salt</th>\n",
              "      <th>password</th>\n",
              "    </tr>\n",
              "  </thead>\n",
              "  <tbody>\n",
              "    <tr>\n",
              "      <th>6</th>\n",
              "      <td>cleonard</td>\n",
              "      <td>8fed37998d510c9c9592838a95c1e877</td>\n",
              "      <td>dad1b4da1217134f75ee8d0474055744d3af164c4a1e53...</td>\n",
              "    </tr>\n",
              "    <tr>\n",
              "      <th>7</th>\n",
              "      <td>sonyac</td>\n",
              "      <td>d961c66b3ba34c68613c58a21246ce1c</td>\n",
              "      <td>91dfd17c46ea70cc5e44e634742dbb136fc88c1a520555...</td>\n",
              "    </tr>\n",
              "    <tr>\n",
              "      <th>26</th>\n",
              "      <td>awperez</td>\n",
              "      <td>1aae169aa671518a6dad79bbb8c6211e</td>\n",
              "      <td>5b5ad377d1fb4fff48d9c3a9c9515e0735dcd5a746ad2d...</td>\n",
              "    </tr>\n",
              "    <tr>\n",
              "      <th>34</th>\n",
              "      <td>mhiguita</td>\n",
              "      <td>f6a805e824d392bd0eb7dfea2133bc28</td>\n",
              "      <td>0488044185453426d4e3260ed4f4341affd1196c7973b8...</td>\n",
              "    </tr>\n",
              "  </tbody>\n",
              "</table>\n",
              "</div>\n",
              "    <div class=\"colab-df-buttons\">\n",
              "\n",
              "  <div class=\"colab-df-container\">\n",
              "    <button class=\"colab-df-convert\" onclick=\"convertToInteractive('df-6441c59c-bb22-4162-8255-0dd624b568d2')\"\n",
              "            title=\"Convert this dataframe to an interactive table.\"\n",
              "            style=\"display:none;\">\n",
              "\n",
              "  <svg xmlns=\"http://www.w3.org/2000/svg\" height=\"24px\" viewBox=\"0 -960 960 960\">\n",
              "    <path d=\"M120-120v-720h720v720H120Zm60-500h600v-160H180v160Zm220 220h160v-160H400v160Zm0 220h160v-160H400v160ZM180-400h160v-160H180v160Zm440 0h160v-160H620v160ZM180-180h160v-160H180v160Zm440 0h160v-160H620v160Z\"/>\n",
              "  </svg>\n",
              "    </button>\n",
              "\n",
              "  <style>\n",
              "    .colab-df-container {\n",
              "      display:flex;\n",
              "      gap: 12px;\n",
              "    }\n",
              "\n",
              "    .colab-df-convert {\n",
              "      background-color: #E8F0FE;\n",
              "      border: none;\n",
              "      border-radius: 50%;\n",
              "      cursor: pointer;\n",
              "      display: none;\n",
              "      fill: #1967D2;\n",
              "      height: 32px;\n",
              "      padding: 0 0 0 0;\n",
              "      width: 32px;\n",
              "    }\n",
              "\n",
              "    .colab-df-convert:hover {\n",
              "      background-color: #E2EBFA;\n",
              "      box-shadow: 0px 1px 2px rgba(60, 64, 67, 0.3), 0px 1px 3px 1px rgba(60, 64, 67, 0.15);\n",
              "      fill: #174EA6;\n",
              "    }\n",
              "\n",
              "    .colab-df-buttons div {\n",
              "      margin-bottom: 4px;\n",
              "    }\n",
              "\n",
              "    [theme=dark] .colab-df-convert {\n",
              "      background-color: #3B4455;\n",
              "      fill: #D2E3FC;\n",
              "    }\n",
              "\n",
              "    [theme=dark] .colab-df-convert:hover {\n",
              "      background-color: #434B5C;\n",
              "      box-shadow: 0px 1px 3px 1px rgba(0, 0, 0, 0.15);\n",
              "      filter: drop-shadow(0px 1px 2px rgba(0, 0, 0, 0.3));\n",
              "      fill: #FFFFFF;\n",
              "    }\n",
              "  </style>\n",
              "\n",
              "    <script>\n",
              "      const buttonEl =\n",
              "        document.querySelector('#df-6441c59c-bb22-4162-8255-0dd624b568d2 button.colab-df-convert');\n",
              "      buttonEl.style.display =\n",
              "        google.colab.kernel.accessAllowed ? 'block' : 'none';\n",
              "\n",
              "      async function convertToInteractive(key) {\n",
              "        const element = document.querySelector('#df-6441c59c-bb22-4162-8255-0dd624b568d2');\n",
              "        const dataTable =\n",
              "          await google.colab.kernel.invokeFunction('convertToInteractive',\n",
              "                                                    [key], {});\n",
              "        if (!dataTable) return;\n",
              "\n",
              "        const docLinkHtml = 'Like what you see? Visit the ' +\n",
              "          '<a target=\"_blank\" href=https://colab.research.google.com/notebooks/data_table.ipynb>data table notebook</a>'\n",
              "          + ' to learn more about interactive tables.';\n",
              "        element.innerHTML = '';\n",
              "        dataTable['output_type'] = 'display_data';\n",
              "        await google.colab.output.renderOutput(dataTable, element);\n",
              "        const docLink = document.createElement('div');\n",
              "        docLink.innerHTML = docLinkHtml;\n",
              "        element.appendChild(docLink);\n",
              "      }\n",
              "    </script>\n",
              "  </div>\n",
              "\n",
              "\n",
              "<div id=\"df-06bc63aa-4e46-402c-a479-6616f803ba73\">\n",
              "  <button class=\"colab-df-quickchart\" onclick=\"quickchart('df-06bc63aa-4e46-402c-a479-6616f803ba73')\"\n",
              "            title=\"Suggest charts\"\n",
              "            style=\"display:none;\">\n",
              "\n",
              "<svg xmlns=\"http://www.w3.org/2000/svg\" height=\"24px\"viewBox=\"0 0 24 24\"\n",
              "     width=\"24px\">\n",
              "    <g>\n",
              "        <path d=\"M19 3H5c-1.1 0-2 .9-2 2v14c0 1.1.9 2 2 2h14c1.1 0 2-.9 2-2V5c0-1.1-.9-2-2-2zM9 17H7v-7h2v7zm4 0h-2V7h2v10zm4 0h-2v-4h2v4z\"/>\n",
              "    </g>\n",
              "</svg>\n",
              "  </button>\n",
              "\n",
              "<style>\n",
              "  .colab-df-quickchart {\n",
              "      --bg-color: #E8F0FE;\n",
              "      --fill-color: #1967D2;\n",
              "      --hover-bg-color: #E2EBFA;\n",
              "      --hover-fill-color: #174EA6;\n",
              "      --disabled-fill-color: #AAA;\n",
              "      --disabled-bg-color: #DDD;\n",
              "  }\n",
              "\n",
              "  [theme=dark] .colab-df-quickchart {\n",
              "      --bg-color: #3B4455;\n",
              "      --fill-color: #D2E3FC;\n",
              "      --hover-bg-color: #434B5C;\n",
              "      --hover-fill-color: #FFFFFF;\n",
              "      --disabled-bg-color: #3B4455;\n",
              "      --disabled-fill-color: #666;\n",
              "  }\n",
              "\n",
              "  .colab-df-quickchart {\n",
              "    background-color: var(--bg-color);\n",
              "    border: none;\n",
              "    border-radius: 50%;\n",
              "    cursor: pointer;\n",
              "    display: none;\n",
              "    fill: var(--fill-color);\n",
              "    height: 32px;\n",
              "    padding: 0;\n",
              "    width: 32px;\n",
              "  }\n",
              "\n",
              "  .colab-df-quickchart:hover {\n",
              "    background-color: var(--hover-bg-color);\n",
              "    box-shadow: 0 1px 2px rgba(60, 64, 67, 0.3), 0 1px 3px 1px rgba(60, 64, 67, 0.15);\n",
              "    fill: var(--button-hover-fill-color);\n",
              "  }\n",
              "\n",
              "  .colab-df-quickchart-complete:disabled,\n",
              "  .colab-df-quickchart-complete:disabled:hover {\n",
              "    background-color: var(--disabled-bg-color);\n",
              "    fill: var(--disabled-fill-color);\n",
              "    box-shadow: none;\n",
              "  }\n",
              "\n",
              "  .colab-df-spinner {\n",
              "    border: 2px solid var(--fill-color);\n",
              "    border-color: transparent;\n",
              "    border-bottom-color: var(--fill-color);\n",
              "    animation:\n",
              "      spin 1s steps(1) infinite;\n",
              "  }\n",
              "\n",
              "  @keyframes spin {\n",
              "    0% {\n",
              "      border-color: transparent;\n",
              "      border-bottom-color: var(--fill-color);\n",
              "      border-left-color: var(--fill-color);\n",
              "    }\n",
              "    20% {\n",
              "      border-color: transparent;\n",
              "      border-left-color: var(--fill-color);\n",
              "      border-top-color: var(--fill-color);\n",
              "    }\n",
              "    30% {\n",
              "      border-color: transparent;\n",
              "      border-left-color: var(--fill-color);\n",
              "      border-top-color: var(--fill-color);\n",
              "      border-right-color: var(--fill-color);\n",
              "    }\n",
              "    40% {\n",
              "      border-color: transparent;\n",
              "      border-right-color: var(--fill-color);\n",
              "      border-top-color: var(--fill-color);\n",
              "    }\n",
              "    60% {\n",
              "      border-color: transparent;\n",
              "      border-right-color: var(--fill-color);\n",
              "    }\n",
              "    80% {\n",
              "      border-color: transparent;\n",
              "      border-right-color: var(--fill-color);\n",
              "      border-bottom-color: var(--fill-color);\n",
              "    }\n",
              "    90% {\n",
              "      border-color: transparent;\n",
              "      border-bottom-color: var(--fill-color);\n",
              "    }\n",
              "  }\n",
              "</style>\n",
              "\n",
              "  <script>\n",
              "    async function quickchart(key) {\n",
              "      const quickchartButtonEl =\n",
              "        document.querySelector('#' + key + ' button');\n",
              "      quickchartButtonEl.disabled = true;  // To prevent multiple clicks.\n",
              "      quickchartButtonEl.classList.add('colab-df-spinner');\n",
              "      try {\n",
              "        const charts = await google.colab.kernel.invokeFunction(\n",
              "            'suggestCharts', [key], {});\n",
              "      } catch (error) {\n",
              "        console.error('Error during call to suggestCharts:', error);\n",
              "      }\n",
              "      quickchartButtonEl.classList.remove('colab-df-spinner');\n",
              "      quickchartButtonEl.classList.add('colab-df-quickchart-complete');\n",
              "    }\n",
              "    (() => {\n",
              "      let quickchartButtonEl =\n",
              "        document.querySelector('#df-06bc63aa-4e46-402c-a479-6616f803ba73 button');\n",
              "      quickchartButtonEl.style.display =\n",
              "        google.colab.kernel.accessAllowed ? 'block' : 'none';\n",
              "    })();\n",
              "  </script>\n",
              "</div>\n",
              "\n",
              "  <div id=\"id_bb237950-7c7c-4c5a-b96a-49e46aa59c28\">\n",
              "    <style>\n",
              "      .colab-df-generate {\n",
              "        background-color: #E8F0FE;\n",
              "        border: none;\n",
              "        border-radius: 50%;\n",
              "        cursor: pointer;\n",
              "        display: none;\n",
              "        fill: #1967D2;\n",
              "        height: 32px;\n",
              "        padding: 0 0 0 0;\n",
              "        width: 32px;\n",
              "      }\n",
              "\n",
              "      .colab-df-generate:hover {\n",
              "        background-color: #E2EBFA;\n",
              "        box-shadow: 0px 1px 2px rgba(60, 64, 67, 0.3), 0px 1px 3px 1px rgba(60, 64, 67, 0.15);\n",
              "        fill: #174EA6;\n",
              "      }\n",
              "\n",
              "      [theme=dark] .colab-df-generate {\n",
              "        background-color: #3B4455;\n",
              "        fill: #D2E3FC;\n",
              "      }\n",
              "\n",
              "      [theme=dark] .colab-df-generate:hover {\n",
              "        background-color: #434B5C;\n",
              "        box-shadow: 0px 1px 3px 1px rgba(0, 0, 0, 0.15);\n",
              "        filter: drop-shadow(0px 1px 2px rgba(0, 0, 0, 0.3));\n",
              "        fill: #FFFFFF;\n",
              "      }\n",
              "    </style>\n",
              "    <button class=\"colab-df-generate\" onclick=\"generateWithVariable('db_v4')\"\n",
              "            title=\"Generate code using this dataframe.\"\n",
              "            style=\"display:none;\">\n",
              "\n",
              "  <svg xmlns=\"http://www.w3.org/2000/svg\" height=\"24px\"viewBox=\"0 0 24 24\"\n",
              "       width=\"24px\">\n",
              "    <path d=\"M7,19H8.4L18.45,9,17,7.55,7,17.6ZM5,21V16.75L18.45,3.32a2,2,0,0,1,2.83,0l1.4,1.43a1.91,1.91,0,0,1,.58,1.4,1.91,1.91,0,0,1-.58,1.4L9.25,21ZM18.45,9,17,7.55Zm-12,3A5.31,5.31,0,0,0,4.9,8.1,5.31,5.31,0,0,0,1,6.5,5.31,5.31,0,0,0,4.9,4.9,5.31,5.31,0,0,0,6.5,1,5.31,5.31,0,0,0,8.1,4.9,5.31,5.31,0,0,0,12,6.5,5.46,5.46,0,0,0,6.5,12Z\"/>\n",
              "  </svg>\n",
              "    </button>\n",
              "    <script>\n",
              "      (() => {\n",
              "      const buttonEl =\n",
              "        document.querySelector('#id_bb237950-7c7c-4c5a-b96a-49e46aa59c28 button.colab-df-generate');\n",
              "      buttonEl.style.display =\n",
              "        google.colab.kernel.accessAllowed ? 'block' : 'none';\n",
              "\n",
              "      buttonEl.onclick = () => {\n",
              "        google.colab.notebook.generateWithVariable('db_v4');\n",
              "      }\n",
              "      })();\n",
              "    </script>\n",
              "  </div>\n",
              "\n",
              "    </div>\n",
              "  </div>\n"
            ],
            "text/plain": [
              "    username                              salt  \\\n",
              "6   cleonard  8fed37998d510c9c9592838a95c1e877   \n",
              "7     sonyac  d961c66b3ba34c68613c58a21246ce1c   \n",
              "26   awperez  1aae169aa671518a6dad79bbb8c6211e   \n",
              "34  mhiguita  f6a805e824d392bd0eb7dfea2133bc28   \n",
              "\n",
              "                                             password  \n",
              "6   dad1b4da1217134f75ee8d0474055744d3af164c4a1e53...  \n",
              "7   91dfd17c46ea70cc5e44e634742dbb136fc88c1a520555...  \n",
              "26  5b5ad377d1fb4fff48d9c3a9c9515e0735dcd5a746ad2d...  \n",
              "34  0488044185453426d4e3260ed4f4341affd1196c7973b8...  "
            ]
          },
          "execution_count": 24,
          "metadata": {},
          "output_type": "execute_result"
        }
      ],
      "source": [
        "db_v4 = pd.read_csv(f\"password_databases/{filename}\")\n",
        "db_v4 = db_v4[db_v4['username'].isin(usernames)]\n",
        "db_v4"
      ]
    },
    {
      "cell_type": "markdown",
      "metadata": {
        "id": "vC_o0yO-iu5t"
      },
      "source": [
        "## **Métodos**"
      ]
    },
    {
      "cell_type": "markdown",
      "metadata": {
        "id": "miDj6UsZjIAT"
      },
      "source": [
        "## **Análisis de los tiempo**"
      ]
    },
    {
      "cell_type": "markdown",
      "metadata": {
        "id": "JoUKYTyV9kK-"
      },
      "source": [
        "\n",
        "\n",
        "```\n",
        "Function 'generate' executed in 450.2033s\n",
        "Function 'save' executed in 31.4343s\n",
        "Function 'load' executed in 24.6566s\n",
        "\n",
        "Function 'find' executed in 0.0000s\n",
        "cleonard 0923612667jfb\n",
        "\n",
        "Function 'find' executed in 0.0000s\n",
        "sonyac shmily69\n",
        "\n",
        "Function 'find' executed in 0.0000s\n",
        "awperez 19no583\n",
        "\n",
        "Function 'find' executed in 0.0000s\n",
        "mhiguita camycarmen\n",
        "```\n",
        "\n"
      ]
    },
    {
      "cell_type": "markdown",
      "metadata": {
        "id": "Og8ZfC7DjNwO"
      },
      "source": [
        "## **Análisis de seguridad**"
      ]
    },
    {
      "cell_type": "markdown",
      "metadata": {
        "id": "FCrn-Ge8jTUq"
      },
      "source": [
        "## **Conclusión**\n",
        "\n",
        "Se exponga y justifique los contratiempos y motivos en caso de no recuperar alguna de las contraseñas originales"
      ]
    }
  ],
  "metadata": {
    "colab": {
      "collapsed_sections": [
        "Cx3iqoPKmRU8",
        "F2_cl-dT5xl1",
        "jlfKrwdF6CLf",
        "ZLq5v3Ia6Gmn"
      ],
      "provenance": [],
      "toc_visible": true
    },
    "kernelspec": {
      "display_name": "Python 3",
      "name": "python3"
    },
    "language_info": {
      "codemirror_mode": {
        "name": "ipython",
        "version": 3
      },
      "file_extension": ".py",
      "mimetype": "text/x-python",
      "name": "python",
      "nbconvert_exporter": "python",
      "pygments_lexer": "ipython3",
      "version": "3.12.1"
    }
  },
  "nbformat": 4,
  "nbformat_minor": 0
}
